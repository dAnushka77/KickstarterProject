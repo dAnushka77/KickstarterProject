{
  "nbformat": 4,
  "nbformat_minor": 0,
  "metadata": {
    "colab": {
      "provenance": []
    },
    "kernelspec": {
      "name": "python3",
      "display_name": "Python 3"
    },
    "language_info": {
      "name": "python"
    }
  },
  "cells": [
    {
      "cell_type": "markdown",
      "source": [
        "# Data Loading"
      ],
      "metadata": {
        "id": "dAV2F4xBwIa1"
      }
    },
    {
      "cell_type": "code",
      "execution_count": 1,
      "metadata": {
        "colab": {
          "base_uri": "https://localhost:8080/"
        },
        "id": "pdc1C4bie9VX",
        "outputId": "c01814a0-578e-4896-b928-b454f5d9795f"
      },
      "outputs": [
        {
          "output_type": "stream",
          "name": "stdout",
          "text": [
            "Drive already mounted at /content/drive; to attempt to forcibly remount, call drive.mount(\"/content/drive\", force_remount=True).\n",
            "          ID                                               name   \\\n",
            "0  1000002330                    The Songs of Adelaide & Abullah   \n",
            "1  1000004038                                     Where is Hank?   \n",
            "2  1000007540  ToshiCapital Rekordz Needs Help to Complete Album   \n",
            "3  1000011046  Community Film Project: The Art of Neighborhoo...   \n",
            "4  1000014025                               Monarch Espresso Bar   \n",
            "\n",
            "        category  main_category  currency             deadline   goal   \\\n",
            "0          Poetry     Publishing       GBP  2015-10-09 11:36:00   1000   \n",
            "1  Narrative Film   Film & Video       USD  2013-02-26 00:20:50  45000   \n",
            "2           Music          Music       USD  2012-04-16 04:24:11   5000   \n",
            "3    Film & Video   Film & Video       USD  2015-08-29 01:00:00  19500   \n",
            "4     Restaurants           Food       USD  2016-04-01 13:38:27  50000   \n",
            "\n",
            "             launched  pledged       state  backers  country  usd pledged   \\\n",
            "0  2015-08-11 12:12:28        0      failed        0       GB            0   \n",
            "1  2013-01-12 00:20:50      220      failed        3       US          220   \n",
            "2  2012-03-17 03:24:11        1      failed        1       US            1   \n",
            "3  2015-07-04 08:35:03     1283    canceled       14       US         1283   \n",
            "4  2016-02-26 13:38:27    52375  successful      224       US        52375   \n",
            "\n",
            "  Unnamed: 13 Unnamed: 14 Unnamed: 15  Unnamed: 16  \n",
            "0         NaN         NaN         NaN          NaN  \n",
            "1         NaN         NaN         NaN          NaN  \n",
            "2         NaN         NaN         NaN          NaN  \n",
            "3         NaN         NaN         NaN          NaN  \n",
            "4         NaN         NaN         NaN          NaN  \n"
          ]
        },
        {
          "output_type": "stream",
          "name": "stderr",
          "text": [
            "<ipython-input-1-8ecefc3ebd53>:8: DtypeWarning: Columns (13,14,15) have mixed types. Specify dtype option on import or set low_memory=False.\n",
            "  df = pd.read_csv('/content/drive/My Drive/EM/ks-projects-201612.csv', encoding='latin-1')\n"
          ]
        }
      ],
      "source": [
        "from google.colab import drive\n",
        "import pandas as pd\n",
        "\n",
        "# Mount your Google Drive\n",
        "drive.mount('/content/drive')\n",
        "\n",
        "# Load the CSV file from Google Drive\n",
        "df = pd.read_csv('/content/drive/My Drive/EM/ks-projects-201612.csv', encoding='latin-1')\n",
        "\n",
        "# Display the DataFrame\n",
        "print(df.head())"
      ]
    },
    {
      "cell_type": "code",
      "source": [
        "df.head()"
      ],
      "metadata": {
        "colab": {
          "base_uri": "https://localhost:8080/",
          "height": 469
        },
        "id": "v8TarAM8gpdY",
        "outputId": "1abcb085-7c46-49fc-d28a-0f19731f3fbf"
      },
      "execution_count": 2,
      "outputs": [
        {
          "output_type": "execute_result",
          "data": {
            "text/plain": [
              "          ID                                               name   \\\n",
              "0  1000002330                    The Songs of Adelaide & Abullah   \n",
              "1  1000004038                                     Where is Hank?   \n",
              "2  1000007540  ToshiCapital Rekordz Needs Help to Complete Album   \n",
              "3  1000011046  Community Film Project: The Art of Neighborhoo...   \n",
              "4  1000014025                               Monarch Espresso Bar   \n",
              "\n",
              "        category  main_category  currency             deadline   goal   \\\n",
              "0          Poetry     Publishing       GBP  2015-10-09 11:36:00   1000   \n",
              "1  Narrative Film   Film & Video       USD  2013-02-26 00:20:50  45000   \n",
              "2           Music          Music       USD  2012-04-16 04:24:11   5000   \n",
              "3    Film & Video   Film & Video       USD  2015-08-29 01:00:00  19500   \n",
              "4     Restaurants           Food       USD  2016-04-01 13:38:27  50000   \n",
              "\n",
              "             launched  pledged       state  backers  country  usd pledged   \\\n",
              "0  2015-08-11 12:12:28        0      failed        0       GB            0   \n",
              "1  2013-01-12 00:20:50      220      failed        3       US          220   \n",
              "2  2012-03-17 03:24:11        1      failed        1       US            1   \n",
              "3  2015-07-04 08:35:03     1283    canceled       14       US         1283   \n",
              "4  2016-02-26 13:38:27    52375  successful      224       US        52375   \n",
              "\n",
              "  Unnamed: 13 Unnamed: 14 Unnamed: 15  Unnamed: 16  \n",
              "0         NaN         NaN         NaN          NaN  \n",
              "1         NaN         NaN         NaN          NaN  \n",
              "2         NaN         NaN         NaN          NaN  \n",
              "3         NaN         NaN         NaN          NaN  \n",
              "4         NaN         NaN         NaN          NaN  "
            ],
            "text/html": [
              "\n",
              "  <div id=\"df-27756375-73a2-45a5-8b97-be09bcf154d3\" class=\"colab-df-container\">\n",
              "    <div>\n",
              "<style scoped>\n",
              "    .dataframe tbody tr th:only-of-type {\n",
              "        vertical-align: middle;\n",
              "    }\n",
              "\n",
              "    .dataframe tbody tr th {\n",
              "        vertical-align: top;\n",
              "    }\n",
              "\n",
              "    .dataframe thead th {\n",
              "        text-align: right;\n",
              "    }\n",
              "</style>\n",
              "<table border=\"1\" class=\"dataframe\">\n",
              "  <thead>\n",
              "    <tr style=\"text-align: right;\">\n",
              "      <th></th>\n",
              "      <th>ID</th>\n",
              "      <th>name</th>\n",
              "      <th>category</th>\n",
              "      <th>main_category</th>\n",
              "      <th>currency</th>\n",
              "      <th>deadline</th>\n",
              "      <th>goal</th>\n",
              "      <th>launched</th>\n",
              "      <th>pledged</th>\n",
              "      <th>state</th>\n",
              "      <th>backers</th>\n",
              "      <th>country</th>\n",
              "      <th>usd pledged</th>\n",
              "      <th>Unnamed: 13</th>\n",
              "      <th>Unnamed: 14</th>\n",
              "      <th>Unnamed: 15</th>\n",
              "      <th>Unnamed: 16</th>\n",
              "    </tr>\n",
              "  </thead>\n",
              "  <tbody>\n",
              "    <tr>\n",
              "      <th>0</th>\n",
              "      <td>1000002330</td>\n",
              "      <td>The Songs of Adelaide &amp; Abullah</td>\n",
              "      <td>Poetry</td>\n",
              "      <td>Publishing</td>\n",
              "      <td>GBP</td>\n",
              "      <td>2015-10-09 11:36:00</td>\n",
              "      <td>1000</td>\n",
              "      <td>2015-08-11 12:12:28</td>\n",
              "      <td>0</td>\n",
              "      <td>failed</td>\n",
              "      <td>0</td>\n",
              "      <td>GB</td>\n",
              "      <td>0</td>\n",
              "      <td>NaN</td>\n",
              "      <td>NaN</td>\n",
              "      <td>NaN</td>\n",
              "      <td>NaN</td>\n",
              "    </tr>\n",
              "    <tr>\n",
              "      <th>1</th>\n",
              "      <td>1000004038</td>\n",
              "      <td>Where is Hank?</td>\n",
              "      <td>Narrative Film</td>\n",
              "      <td>Film &amp; Video</td>\n",
              "      <td>USD</td>\n",
              "      <td>2013-02-26 00:20:50</td>\n",
              "      <td>45000</td>\n",
              "      <td>2013-01-12 00:20:50</td>\n",
              "      <td>220</td>\n",
              "      <td>failed</td>\n",
              "      <td>3</td>\n",
              "      <td>US</td>\n",
              "      <td>220</td>\n",
              "      <td>NaN</td>\n",
              "      <td>NaN</td>\n",
              "      <td>NaN</td>\n",
              "      <td>NaN</td>\n",
              "    </tr>\n",
              "    <tr>\n",
              "      <th>2</th>\n",
              "      <td>1000007540</td>\n",
              "      <td>ToshiCapital Rekordz Needs Help to Complete Album</td>\n",
              "      <td>Music</td>\n",
              "      <td>Music</td>\n",
              "      <td>USD</td>\n",
              "      <td>2012-04-16 04:24:11</td>\n",
              "      <td>5000</td>\n",
              "      <td>2012-03-17 03:24:11</td>\n",
              "      <td>1</td>\n",
              "      <td>failed</td>\n",
              "      <td>1</td>\n",
              "      <td>US</td>\n",
              "      <td>1</td>\n",
              "      <td>NaN</td>\n",
              "      <td>NaN</td>\n",
              "      <td>NaN</td>\n",
              "      <td>NaN</td>\n",
              "    </tr>\n",
              "    <tr>\n",
              "      <th>3</th>\n",
              "      <td>1000011046</td>\n",
              "      <td>Community Film Project: The Art of Neighborhoo...</td>\n",
              "      <td>Film &amp; Video</td>\n",
              "      <td>Film &amp; Video</td>\n",
              "      <td>USD</td>\n",
              "      <td>2015-08-29 01:00:00</td>\n",
              "      <td>19500</td>\n",
              "      <td>2015-07-04 08:35:03</td>\n",
              "      <td>1283</td>\n",
              "      <td>canceled</td>\n",
              "      <td>14</td>\n",
              "      <td>US</td>\n",
              "      <td>1283</td>\n",
              "      <td>NaN</td>\n",
              "      <td>NaN</td>\n",
              "      <td>NaN</td>\n",
              "      <td>NaN</td>\n",
              "    </tr>\n",
              "    <tr>\n",
              "      <th>4</th>\n",
              "      <td>1000014025</td>\n",
              "      <td>Monarch Espresso Bar</td>\n",
              "      <td>Restaurants</td>\n",
              "      <td>Food</td>\n",
              "      <td>USD</td>\n",
              "      <td>2016-04-01 13:38:27</td>\n",
              "      <td>50000</td>\n",
              "      <td>2016-02-26 13:38:27</td>\n",
              "      <td>52375</td>\n",
              "      <td>successful</td>\n",
              "      <td>224</td>\n",
              "      <td>US</td>\n",
              "      <td>52375</td>\n",
              "      <td>NaN</td>\n",
              "      <td>NaN</td>\n",
              "      <td>NaN</td>\n",
              "      <td>NaN</td>\n",
              "    </tr>\n",
              "  </tbody>\n",
              "</table>\n",
              "</div>\n",
              "    <div class=\"colab-df-buttons\">\n",
              "\n",
              "  <div class=\"colab-df-container\">\n",
              "    <button class=\"colab-df-convert\" onclick=\"convertToInteractive('df-27756375-73a2-45a5-8b97-be09bcf154d3')\"\n",
              "            title=\"Convert this dataframe to an interactive table.\"\n",
              "            style=\"display:none;\">\n",
              "\n",
              "  <svg xmlns=\"http://www.w3.org/2000/svg\" height=\"24px\" viewBox=\"0 -960 960 960\">\n",
              "    <path d=\"M120-120v-720h720v720H120Zm60-500h600v-160H180v160Zm220 220h160v-160H400v160Zm0 220h160v-160H400v160ZM180-400h160v-160H180v160Zm440 0h160v-160H620v160ZM180-180h160v-160H180v160Zm440 0h160v-160H620v160Z\"/>\n",
              "  </svg>\n",
              "    </button>\n",
              "\n",
              "  <style>\n",
              "    .colab-df-container {\n",
              "      display:flex;\n",
              "      gap: 12px;\n",
              "    }\n",
              "\n",
              "    .colab-df-convert {\n",
              "      background-color: #E8F0FE;\n",
              "      border: none;\n",
              "      border-radius: 50%;\n",
              "      cursor: pointer;\n",
              "      display: none;\n",
              "      fill: #1967D2;\n",
              "      height: 32px;\n",
              "      padding: 0 0 0 0;\n",
              "      width: 32px;\n",
              "    }\n",
              "\n",
              "    .colab-df-convert:hover {\n",
              "      background-color: #E2EBFA;\n",
              "      box-shadow: 0px 1px 2px rgba(60, 64, 67, 0.3), 0px 1px 3px 1px rgba(60, 64, 67, 0.15);\n",
              "      fill: #174EA6;\n",
              "    }\n",
              "\n",
              "    .colab-df-buttons div {\n",
              "      margin-bottom: 4px;\n",
              "    }\n",
              "\n",
              "    [theme=dark] .colab-df-convert {\n",
              "      background-color: #3B4455;\n",
              "      fill: #D2E3FC;\n",
              "    }\n",
              "\n",
              "    [theme=dark] .colab-df-convert:hover {\n",
              "      background-color: #434B5C;\n",
              "      box-shadow: 0px 1px 3px 1px rgba(0, 0, 0, 0.15);\n",
              "      filter: drop-shadow(0px 1px 2px rgba(0, 0, 0, 0.3));\n",
              "      fill: #FFFFFF;\n",
              "    }\n",
              "  </style>\n",
              "\n",
              "    <script>\n",
              "      const buttonEl =\n",
              "        document.querySelector('#df-27756375-73a2-45a5-8b97-be09bcf154d3 button.colab-df-convert');\n",
              "      buttonEl.style.display =\n",
              "        google.colab.kernel.accessAllowed ? 'block' : 'none';\n",
              "\n",
              "      async function convertToInteractive(key) {\n",
              "        const element = document.querySelector('#df-27756375-73a2-45a5-8b97-be09bcf154d3');\n",
              "        const dataTable =\n",
              "          await google.colab.kernel.invokeFunction('convertToInteractive',\n",
              "                                                    [key], {});\n",
              "        if (!dataTable) return;\n",
              "\n",
              "        const docLinkHtml = 'Like what you see? Visit the ' +\n",
              "          '<a target=\"_blank\" href=https://colab.research.google.com/notebooks/data_table.ipynb>data table notebook</a>'\n",
              "          + ' to learn more about interactive tables.';\n",
              "        element.innerHTML = '';\n",
              "        dataTable['output_type'] = 'display_data';\n",
              "        await google.colab.output.renderOutput(dataTable, element);\n",
              "        const docLink = document.createElement('div');\n",
              "        docLink.innerHTML = docLinkHtml;\n",
              "        element.appendChild(docLink);\n",
              "      }\n",
              "    </script>\n",
              "  </div>\n",
              "\n",
              "\n",
              "<div id=\"df-2cd20b16-0b4d-47d3-b694-15d1a3dd1bab\">\n",
              "  <button class=\"colab-df-quickchart\" onclick=\"quickchart('df-2cd20b16-0b4d-47d3-b694-15d1a3dd1bab')\"\n",
              "            title=\"Suggest charts\"\n",
              "            style=\"display:none;\">\n",
              "\n",
              "<svg xmlns=\"http://www.w3.org/2000/svg\" height=\"24px\"viewBox=\"0 0 24 24\"\n",
              "     width=\"24px\">\n",
              "    <g>\n",
              "        <path d=\"M19 3H5c-1.1 0-2 .9-2 2v14c0 1.1.9 2 2 2h14c1.1 0 2-.9 2-2V5c0-1.1-.9-2-2-2zM9 17H7v-7h2v7zm4 0h-2V7h2v10zm4 0h-2v-4h2v4z\"/>\n",
              "    </g>\n",
              "</svg>\n",
              "  </button>\n",
              "\n",
              "<style>\n",
              "  .colab-df-quickchart {\n",
              "      --bg-color: #E8F0FE;\n",
              "      --fill-color: #1967D2;\n",
              "      --hover-bg-color: #E2EBFA;\n",
              "      --hover-fill-color: #174EA6;\n",
              "      --disabled-fill-color: #AAA;\n",
              "      --disabled-bg-color: #DDD;\n",
              "  }\n",
              "\n",
              "  [theme=dark] .colab-df-quickchart {\n",
              "      --bg-color: #3B4455;\n",
              "      --fill-color: #D2E3FC;\n",
              "      --hover-bg-color: #434B5C;\n",
              "      --hover-fill-color: #FFFFFF;\n",
              "      --disabled-bg-color: #3B4455;\n",
              "      --disabled-fill-color: #666;\n",
              "  }\n",
              "\n",
              "  .colab-df-quickchart {\n",
              "    background-color: var(--bg-color);\n",
              "    border: none;\n",
              "    border-radius: 50%;\n",
              "    cursor: pointer;\n",
              "    display: none;\n",
              "    fill: var(--fill-color);\n",
              "    height: 32px;\n",
              "    padding: 0;\n",
              "    width: 32px;\n",
              "  }\n",
              "\n",
              "  .colab-df-quickchart:hover {\n",
              "    background-color: var(--hover-bg-color);\n",
              "    box-shadow: 0 1px 2px rgba(60, 64, 67, 0.3), 0 1px 3px 1px rgba(60, 64, 67, 0.15);\n",
              "    fill: var(--button-hover-fill-color);\n",
              "  }\n",
              "\n",
              "  .colab-df-quickchart-complete:disabled,\n",
              "  .colab-df-quickchart-complete:disabled:hover {\n",
              "    background-color: var(--disabled-bg-color);\n",
              "    fill: var(--disabled-fill-color);\n",
              "    box-shadow: none;\n",
              "  }\n",
              "\n",
              "  .colab-df-spinner {\n",
              "    border: 2px solid var(--fill-color);\n",
              "    border-color: transparent;\n",
              "    border-bottom-color: var(--fill-color);\n",
              "    animation:\n",
              "      spin 1s steps(1) infinite;\n",
              "  }\n",
              "\n",
              "  @keyframes spin {\n",
              "    0% {\n",
              "      border-color: transparent;\n",
              "      border-bottom-color: var(--fill-color);\n",
              "      border-left-color: var(--fill-color);\n",
              "    }\n",
              "    20% {\n",
              "      border-color: transparent;\n",
              "      border-left-color: var(--fill-color);\n",
              "      border-top-color: var(--fill-color);\n",
              "    }\n",
              "    30% {\n",
              "      border-color: transparent;\n",
              "      border-left-color: var(--fill-color);\n",
              "      border-top-color: var(--fill-color);\n",
              "      border-right-color: var(--fill-color);\n",
              "    }\n",
              "    40% {\n",
              "      border-color: transparent;\n",
              "      border-right-color: var(--fill-color);\n",
              "      border-top-color: var(--fill-color);\n",
              "    }\n",
              "    60% {\n",
              "      border-color: transparent;\n",
              "      border-right-color: var(--fill-color);\n",
              "    }\n",
              "    80% {\n",
              "      border-color: transparent;\n",
              "      border-right-color: var(--fill-color);\n",
              "      border-bottom-color: var(--fill-color);\n",
              "    }\n",
              "    90% {\n",
              "      border-color: transparent;\n",
              "      border-bottom-color: var(--fill-color);\n",
              "    }\n",
              "  }\n",
              "</style>\n",
              "\n",
              "  <script>\n",
              "    async function quickchart(key) {\n",
              "      const quickchartButtonEl =\n",
              "        document.querySelector('#' + key + ' button');\n",
              "      quickchartButtonEl.disabled = true;  // To prevent multiple clicks.\n",
              "      quickchartButtonEl.classList.add('colab-df-spinner');\n",
              "      try {\n",
              "        const charts = await google.colab.kernel.invokeFunction(\n",
              "            'suggestCharts', [key], {});\n",
              "      } catch (error) {\n",
              "        console.error('Error during call to suggestCharts:', error);\n",
              "      }\n",
              "      quickchartButtonEl.classList.remove('colab-df-spinner');\n",
              "      quickchartButtonEl.classList.add('colab-df-quickchart-complete');\n",
              "    }\n",
              "    (() => {\n",
              "      let quickchartButtonEl =\n",
              "        document.querySelector('#df-2cd20b16-0b4d-47d3-b694-15d1a3dd1bab button');\n",
              "      quickchartButtonEl.style.display =\n",
              "        google.colab.kernel.accessAllowed ? 'block' : 'none';\n",
              "    })();\n",
              "  </script>\n",
              "</div>\n",
              "\n",
              "    </div>\n",
              "  </div>\n"
            ],
            "application/vnd.google.colaboratory.intrinsic+json": {
              "type": "dataframe",
              "variable_name": "df"
            }
          },
          "metadata": {},
          "execution_count": 2
        }
      ]
    },
    {
      "cell_type": "code",
      "source": [
        "print(\"State Value Counts:\")\n",
        "print(df[\"state \"].value_counts())"
      ],
      "metadata": {
        "colab": {
          "base_uri": "https://localhost:8080/"
        },
        "id": "ZJsalQuqHSK0",
        "outputId": "4e01a9a1-9309-45ed-a08f-68641d864910"
      },
      "execution_count": 3,
      "outputs": [
        {
          "output_type": "stream",
          "name": "stdout",
          "text": [
            "State Value Counts:\n",
            "state \n",
            "failed        168221\n",
            "successful    113081\n",
            "canceled       32354\n",
            "live            4428\n",
            "undefined       3555\n",
            "               ...  \n",
            "2312               1\n",
            "320                1\n",
            "477                1\n",
            "1404               1\n",
            "2634               1\n",
            "Name: count, Length: 410, dtype: int64\n"
          ]
        }
      ]
    },
    {
      "cell_type": "markdown",
      "source": [
        "# Part 1: Data Cleaning"
      ],
      "metadata": {
        "id": "17xBKc2iwNQt"
      }
    },
    {
      "cell_type": "code",
      "source": [
        "df.shape"
      ],
      "metadata": {
        "colab": {
          "base_uri": "https://localhost:8080/"
        },
        "id": "SC9Qc0dnkVB8",
        "outputId": "870297d5-5d40-4acd-f435-4b4b46f5511a"
      },
      "execution_count": 4,
      "outputs": [
        {
          "output_type": "execute_result",
          "data": {
            "text/plain": [
              "(323750, 17)"
            ]
          },
          "metadata": {},
          "execution_count": 4
        }
      ]
    },
    {
      "cell_type": "code",
      "source": [
        "print(\"Missing values before handling:\\n\", df.isnull().sum())"
      ],
      "metadata": {
        "colab": {
          "base_uri": "https://localhost:8080/"
        },
        "id": "E3TLlVP9qc2x",
        "outputId": "00c4db25-f1ac-426c-9a14-96d43b7a3f10"
      },
      "execution_count": 5,
      "outputs": [
        {
          "output_type": "stream",
          "name": "stdout",
          "text": [
            "Missing values before handling:\n",
            " ID                     0\n",
            "name                   4\n",
            "category               5\n",
            "main_category          0\n",
            "currency               0\n",
            "deadline               0\n",
            "goal                   0\n",
            "launched               0\n",
            "pledged                0\n",
            "state                  0\n",
            "backers                0\n",
            "country                0\n",
            "usd pledged         3790\n",
            "Unnamed: 13       323125\n",
            "Unnamed: 14       323738\n",
            "Unnamed: 15       323746\n",
            "Unnamed: 16       323749\n",
            "dtype: int64\n"
          ]
        }
      ]
    },
    {
      "cell_type": "code",
      "source": [
        "# Drop the last 4 rows\n",
        "df = df.iloc[:, :-4]"
      ],
      "metadata": {
        "id": "U-mAV47JqfuR"
      },
      "execution_count": 6,
      "outputs": []
    },
    {
      "cell_type": "code",
      "source": [
        "df.shape"
      ],
      "metadata": {
        "colab": {
          "base_uri": "https://localhost:8080/"
        },
        "id": "MkwEZ4scrHxj",
        "outputId": "b2736a23-1da5-43ff-bf79-4c2b325d4b06"
      },
      "execution_count": 7,
      "outputs": [
        {
          "output_type": "execute_result",
          "data": {
            "text/plain": [
              "(323750, 13)"
            ]
          },
          "metadata": {},
          "execution_count": 7
        }
      ]
    },
    {
      "cell_type": "code",
      "source": [
        "print(\"Missing values before handling:\\n\", df.isnull().sum())"
      ],
      "metadata": {
        "colab": {
          "base_uri": "https://localhost:8080/"
        },
        "id": "5kxwTozGrJpU",
        "outputId": "0c6349e6-c12d-4226-ad05-f0f5ee1234bd"
      },
      "execution_count": 8,
      "outputs": [
        {
          "output_type": "stream",
          "name": "stdout",
          "text": [
            "Missing values before handling:\n",
            " ID                   0\n",
            "name                 4\n",
            "category             5\n",
            "main_category        0\n",
            "currency             0\n",
            "deadline             0\n",
            "goal                 0\n",
            "launched             0\n",
            "pledged              0\n",
            "state                0\n",
            "backers              0\n",
            "country              0\n",
            "usd pledged       3790\n",
            "dtype: int64\n"
          ]
        }
      ]
    },
    {
      "cell_type": "markdown",
      "source": [
        "## Drop missing values / Impute with mode or median"
      ],
      "metadata": {
        "id": "BqPFeo84x5OR"
      }
    },
    {
      "cell_type": "code",
      "source": [
        "# Drop columns with more than 40% missing values\n",
        "threshold = len(df) * 0.4\n",
        "df_cleaned = df.dropna(axis=1, thresh=threshold)"
      ],
      "metadata": {
        "id": "vodaAm6Bso22"
      },
      "execution_count": 9,
      "outputs": []
    },
    {
      "cell_type": "code",
      "source": [
        "print(\"Missing values before handling:\\n\", df.isnull().sum())"
      ],
      "metadata": {
        "colab": {
          "base_uri": "https://localhost:8080/"
        },
        "id": "X792ZsV6syUD",
        "outputId": "37947bd4-58d2-438b-f6d9-653a472e94e0"
      },
      "execution_count": 10,
      "outputs": [
        {
          "output_type": "stream",
          "name": "stdout",
          "text": [
            "Missing values before handling:\n",
            " ID                   0\n",
            "name                 4\n",
            "category             5\n",
            "main_category        0\n",
            "currency             0\n",
            "deadline             0\n",
            "goal                 0\n",
            "launched             0\n",
            "pledged              0\n",
            "state                0\n",
            "backers              0\n",
            "country              0\n",
            "usd pledged       3790\n",
            "dtype: int64\n"
          ]
        }
      ]
    },
    {
      "cell_type": "code",
      "source": [
        "# Impute missing values for numerical and categorical columns\n",
        "for col in df_cleaned.select_dtypes(include=[\"number\"]).columns:df_cleaned[col].fillna(df_cleaned[col].median(), inplace=True)\n",
        "for col in df_cleaned.select_dtypes(include=[\"object\"]).columns:df_cleaned[col].fillna(df_cleaned[col].mode()[0], inplace=True)"
      ],
      "metadata": {
        "colab": {
          "base_uri": "https://localhost:8080/"
        },
        "id": "E7KYZQkGs0xp",
        "outputId": "75d91220-1470-4720-bef5-5eec6a249258"
      },
      "execution_count": 11,
      "outputs": [
        {
          "output_type": "stream",
          "name": "stderr",
          "text": [
            "<ipython-input-11-215e27d9bc2a>:2: FutureWarning: A value is trying to be set on a copy of a DataFrame or Series through chained assignment using an inplace method.\n",
            "The behavior will change in pandas 3.0. This inplace method will never work because the intermediate object on which we are setting values always behaves as a copy.\n",
            "\n",
            "For example, when doing 'df[col].method(value, inplace=True)', try using 'df.method({col: value}, inplace=True)' or df[col] = df[col].method(value) instead, to perform the operation inplace on the original object.\n",
            "\n",
            "\n",
            "  for col in df_cleaned.select_dtypes(include=[\"number\"]).columns:df_cleaned[col].fillna(df_cleaned[col].median(), inplace=True)\n",
            "<ipython-input-11-215e27d9bc2a>:3: FutureWarning: A value is trying to be set on a copy of a DataFrame or Series through chained assignment using an inplace method.\n",
            "The behavior will change in pandas 3.0. This inplace method will never work because the intermediate object on which we are setting values always behaves as a copy.\n",
            "\n",
            "For example, when doing 'df[col].method(value, inplace=True)', try using 'df.method({col: value}, inplace=True)' or df[col] = df[col].method(value) instead, to perform the operation inplace on the original object.\n",
            "\n",
            "\n",
            "  for col in df_cleaned.select_dtypes(include=[\"object\"]).columns:df_cleaned[col].fillna(df_cleaned[col].mode()[0], inplace=True)\n"
          ]
        }
      ]
    },
    {
      "cell_type": "code",
      "source": [
        "print(\"\\nMissing values after handling:\\n\", df_cleaned.isnull().sum())"
      ],
      "metadata": {
        "colab": {
          "base_uri": "https://localhost:8080/"
        },
        "id": "cnVNr30stFG6",
        "outputId": "940a7d2a-8894-421e-89f1-01420134bd04"
      },
      "execution_count": 12,
      "outputs": [
        {
          "output_type": "stream",
          "name": "stdout",
          "text": [
            "\n",
            "Missing values after handling:\n",
            " ID                0\n",
            "name              0\n",
            "category          0\n",
            "main_category     0\n",
            "currency          0\n",
            "deadline          0\n",
            "goal              0\n",
            "launched          0\n",
            "pledged           0\n",
            "state             0\n",
            "backers           0\n",
            "country           0\n",
            "usd pledged       0\n",
            "dtype: int64\n"
          ]
        }
      ]
    },
    {
      "cell_type": "markdown",
      "source": [
        "## Remove Duplicates"
      ],
      "metadata": {
        "id": "XSdVjEJRx0yp"
      }
    },
    {
      "cell_type": "code",
      "source": [
        "# Step 1.2: Remove Duplicate Rows\n",
        "df_cleaned.drop_duplicates(inplace=True)"
      ],
      "metadata": {
        "id": "HuBKQ1mBtJRL"
      },
      "execution_count": 13,
      "outputs": []
    },
    {
      "cell_type": "code",
      "source": [
        "df_cleaned.shape"
      ],
      "metadata": {
        "colab": {
          "base_uri": "https://localhost:8080/"
        },
        "id": "F9sbYsLDtM2b",
        "outputId": "d3b64352-3d26-4bf3-9794-41a1e707e100"
      },
      "execution_count": 14,
      "outputs": [
        {
          "output_type": "execute_result",
          "data": {
            "text/plain": [
              "(323750, 13)"
            ]
          },
          "metadata": {},
          "execution_count": 14
        }
      ]
    },
    {
      "cell_type": "code",
      "source": [
        "df_cleaned.columns"
      ],
      "metadata": {
        "colab": {
          "base_uri": "https://localhost:8080/"
        },
        "id": "bZcW8UkAtbn-",
        "outputId": "80a25e10-b9b1-410c-99d6-cd5992c0485b"
      },
      "execution_count": 15,
      "outputs": [
        {
          "output_type": "execute_result",
          "data": {
            "text/plain": [
              "Index(['ID ', 'name ', 'category ', 'main_category ', 'currency ', 'deadline ',\n",
              "       'goal ', 'launched ', 'pledged ', 'state ', 'backers ', 'country ',\n",
              "       'usd pledged '],\n",
              "      dtype='object')"
            ]
          },
          "metadata": {},
          "execution_count": 15
        }
      ]
    },
    {
      "cell_type": "markdown",
      "source": [
        "## Standardize date columns"
      ],
      "metadata": {
        "id": "fsEaTQN3yG1O"
      }
    },
    {
      "cell_type": "code",
      "source": [
        "# strip spaces from column names\n",
        "df_cleaned.columns = df_cleaned.columns.str.strip()\n",
        "df_cleaned.columns"
      ],
      "metadata": {
        "colab": {
          "base_uri": "https://localhost:8080/"
        },
        "id": "L4eAQ6BdtPhK",
        "outputId": "05fa7f5c-8ba4-47f1-8667-bab625a69531"
      },
      "execution_count": 16,
      "outputs": [
        {
          "output_type": "execute_result",
          "data": {
            "text/plain": [
              "Index(['ID', 'name', 'category', 'main_category', 'currency', 'deadline',\n",
              "       'goal', 'launched', 'pledged', 'state', 'backers', 'country',\n",
              "       'usd pledged'],\n",
              "      dtype='object')"
            ]
          },
          "metadata": {},
          "execution_count": 16
        }
      ]
    },
    {
      "cell_type": "code",
      "source": [
        "# Convert deadline and launched Columns\n",
        "df_cleaned[\"deadline\"] = pd.to_datetime(df_cleaned[\"deadline\"], errors='coerce').dt.date\n",
        "df_cleaned[\"launched\"] = pd.to_datetime(df_cleaned[\"launched\"], errors='coerce').dt.date"
      ],
      "metadata": {
        "id": "DDBGqZPItVPF"
      },
      "execution_count": 17,
      "outputs": []
    },
    {
      "cell_type": "code",
      "source": [
        "# If some rows still have non-date values, display them\n",
        "invalid_dates = df_cleaned[df_cleaned[\"deadline\"].isna() | df_cleaned[\"launched\"].isna()]\n",
        "print(\"Rows with invalid date values:\\n\", invalid_dates)"
      ],
      "metadata": {
        "colab": {
          "base_uri": "https://localhost:8080/"
        },
        "id": "g3Sf0aMru1zB",
        "outputId": "774d0681-f155-428d-fa5c-c41e8dc84d85"
      },
      "execution_count": 18,
      "outputs": [
        {
          "output_type": "stream",
          "name": "stdout",
          "text": [
            "Rows with invalid date values:\n",
            "                 ID                                      name  \\\n",
            "1454    1008705746                 Zephyra´s new full length   \n",
            "1563    1009317190                            French Cuisine   \n",
            "1794    1010871699   The Beginners Guide to being Unsuicidal   \n",
            "1931    1011687764                   Best OnLine Classifieds   \n",
            "2420     101453314               Social Media Ruined My Life   \n",
            "...            ...                                       ...   \n",
            "321945   989007729                           THROUGH MY EYES   \n",
            "322162   990511774  Daniel Hresko's new CD is (almost) ready   \n",
            "322204   990746749                        Feet on the Ground   \n",
            "323138   996542939         'WANDER' - Apocalyptic Short Film   \n",
            "323495    99851211           Art/sustainability/spirituality   \n",
            "\n",
            "                                 category   main_category      currency  \\\n",
            "1454             'As The World Collapses'           Metal         Music   \n",
            "1563             A Traditional Experience       Cookbooks          Food   \n",
            "1794                          the one act         Theater       Theater   \n",
            "1931                  Ever / No More Spam             Web    Technology   \n",
            "2420      A Short Film from Adam S Curtis          Shorts  Film & Video   \n",
            "...                                   ...             ...           ...   \n",
            "321945   MY LIFE IN THE MISSISSIPPI DELTA  Narrative Film  Film & Video   \n",
            "322162                   so get on board!      Indie Rock         Music   \n",
            "322204                 Head in the Clouds    Film & Video  Film & Video   \n",
            "323138                    Post Production          Shorts  Film & Video   \n",
            "323495        a bike quest in New Zealand     Photography   Photography   \n",
            "\n",
            "       deadline                 goal launched              pledged state  \\\n",
            "1454        NaT  2016-02-02 00:56:46      NaT  2016-01-03 00:56:46  4262   \n",
            "1563        NaT  2014-09-08 00:46:23      NaT  2014-08-09 03:16:02  3984   \n",
            "1794        NaT  2011-12-31 23:25:46      NaT  2011-11-21 23:25:46   525   \n",
            "1931        NaT  2014-09-20 19:56:10      NaT  2014-08-21 19:56:10     0   \n",
            "2420        NaT  2013-03-14 20:11:57      NaT  2013-02-25 21:11:57  3035   \n",
            "...         ...                  ...      ...                  ...   ...   \n",
            "321945      NaT  2012-04-05 02:34:49      NaT  2012-03-06 02:34:49    10   \n",
            "322162      NaT  2011-09-06 05:59:00      NaT  2011-08-06 15:36:39    61   \n",
            "322204      NaT  2013-04-17 16:00:31      NaT  2013-03-18 15:00:31   179   \n",
            "323138      NaT  2015-04-26 17:12:59      NaT  2015-02-25 17:12:59  2501   \n",
            "323495      NaT  2013-03-05 21:00:00      NaT  2013-02-05 08:09:32  2634   \n",
            "\n",
            "           backers country usd pledged  \n",
            "1454        failed      14          SE  \n",
            "1563        failed      46          US  \n",
            "1794        failed      10          US  \n",
            "1931        failed       0          US  \n",
            "2420    successful      42          US  \n",
            "...            ...     ...         ...  \n",
            "321945      failed       1          US  \n",
            "322162      failed       4          US  \n",
            "322204      failed      10          US  \n",
            "323138  successful      50          GB  \n",
            "323495  successful      34          US  \n",
            "\n",
            "[632 rows x 13 columns]\n"
          ]
        }
      ]
    },
    {
      "cell_type": "code",
      "source": [
        "# Drop rows where `deadline` or `launched` is still NaT\n",
        "df_cleaned = df_cleaned.dropna(subset=[\"deadline\", \"launched\"])"
      ],
      "metadata": {
        "id": "IcBO9hNEu8ub"
      },
      "execution_count": 19,
      "outputs": []
    },
    {
      "cell_type": "code",
      "source": [
        "df_cleaned.shape"
      ],
      "metadata": {
        "colab": {
          "base_uri": "https://localhost:8080/"
        },
        "id": "D5N4L0s-vTNx",
        "outputId": "9bf4d0be-7ee2-4727-9ea9-ea63bd32e8e6"
      },
      "execution_count": 20,
      "outputs": [
        {
          "output_type": "execute_result",
          "data": {
            "text/plain": [
              "(323118, 13)"
            ]
          },
          "metadata": {},
          "execution_count": 20
        }
      ]
    },
    {
      "cell_type": "code",
      "source": [
        "# Convert deadline to string before checking invalid values\n",
        "df_cleaned[\"deadline\"] = df_cleaned[\"deadline\"].astype(str)\n",
        "df_cleaned[\"launched\"] = df_cleaned[\"launched\"].astype(str)\n",
        "\n",
        "# Detect invalid date formats (not matching YYYY-MM-DD pattern)\n",
        "invalid_dates = df_cleaned[\n",
        "    ~df_cleaned[\"deadline\"].str.match(r'^\\d{4}-\\d{2}-\\d{2}$', na=False) |\n",
        "    ~df_cleaned[\"launched\"].str.match(r'^\\d{4}-\\d{2}-\\d{2}$', na=False)\n",
        "]\n",
        "\n",
        "# Print problematic rows before fixing\n",
        "print(\"Rows with invalid date values before correction:\\n\", invalid_dates)"
      ],
      "metadata": {
        "colab": {
          "base_uri": "https://localhost:8080/"
        },
        "id": "IPg4dAoJvd0l",
        "outputId": "df5837a4-349f-44ff-93b0-8a9f74f1b887"
      },
      "execution_count": 21,
      "outputs": [
        {
          "output_type": "stream",
          "name": "stdout",
          "text": [
            "Rows with invalid date values before correction:\n",
            " Empty DataFrame\n",
            "Columns: [ID, name, category, main_category, currency, deadline, goal, launched, pledged, state, backers, country, usd pledged]\n",
            "Index: []\n"
          ]
        }
      ]
    },
    {
      "cell_type": "code",
      "source": [
        "# If some rows still have non-date values, display them\n",
        "invalid_dates = df_cleaned[df_cleaned[\"deadline\"].isna() | df_cleaned[\"launched\"].isna()]\n",
        "print(\"Rows with invalid date values:\\n\", invalid_dates)"
      ],
      "metadata": {
        "colab": {
          "base_uri": "https://localhost:8080/"
        },
        "id": "oXiWHlZzvj8Q",
        "outputId": "cbf76f38-c869-4ce3-dac0-d57e247e973d"
      },
      "execution_count": 22,
      "outputs": [
        {
          "output_type": "stream",
          "name": "stdout",
          "text": [
            "Rows with invalid date values:\n",
            " Empty DataFrame\n",
            "Columns: [ID, name, category, main_category, currency, deadline, goal, launched, pledged, state, backers, country, usd pledged]\n",
            "Index: []\n"
          ]
        }
      ]
    },
    {
      "cell_type": "markdown",
      "source": [
        "## Standardize categorical data for consistency"
      ],
      "metadata": {
        "id": "KCAR-cghyNh3"
      }
    },
    {
      "cell_type": "code",
      "source": [
        "# Step 6: Standardize Categorical Data\n",
        "df_cleaned[\"category\"] = df_cleaned[\"category\"].str.strip().str.lower()\n",
        "df_cleaned[\"main_category\"] = df_cleaned[\"main_category\"].str.strip().str.lower()\n",
        "df_cleaned[\"country\"] = df_cleaned[\"country\"].str.strip().str.upper()"
      ],
      "metadata": {
        "id": "Yq7_xhBMvnh8"
      },
      "execution_count": 23,
      "outputs": []
    },
    {
      "cell_type": "code",
      "source": [
        "# Display Cleaned Dataset\n",
        "print(\"\\nCleaned Dataset:\\n\")\n",
        "df_cleaned.head()"
      ],
      "metadata": {
        "colab": {
          "base_uri": "https://localhost:8080/",
          "height": 362
        },
        "id": "66d3NUAgvrId",
        "outputId": "6c7e4b6a-b573-4cb3-c383-e9dd64f2b871"
      },
      "execution_count": 24,
      "outputs": [
        {
          "output_type": "stream",
          "name": "stdout",
          "text": [
            "\n",
            "Cleaned Dataset:\n",
            "\n"
          ]
        },
        {
          "output_type": "execute_result",
          "data": {
            "text/plain": [
              "           ID                                               name  \\\n",
              "0  1000002330                    The Songs of Adelaide & Abullah   \n",
              "1  1000004038                                     Where is Hank?   \n",
              "2  1000007540  ToshiCapital Rekordz Needs Help to Complete Album   \n",
              "3  1000011046  Community Film Project: The Art of Neighborhoo...   \n",
              "4  1000014025                               Monarch Espresso Bar   \n",
              "\n",
              "         category main_category currency    deadline   goal    launched  \\\n",
              "0          poetry    publishing      GBP  2015-10-09   1000  2015-08-11   \n",
              "1  narrative film  film & video      USD  2013-02-26  45000  2013-01-12   \n",
              "2           music         music      USD  2012-04-16   5000  2012-03-17   \n",
              "3    film & video  film & video      USD  2015-08-29  19500  2015-07-04   \n",
              "4     restaurants          food      USD  2016-04-01  50000  2016-02-26   \n",
              "\n",
              "  pledged       state backers country usd pledged  \n",
              "0       0      failed       0      GB           0  \n",
              "1     220      failed       3      US         220  \n",
              "2       1      failed       1      US           1  \n",
              "3    1283    canceled      14      US        1283  \n",
              "4   52375  successful     224      US       52375  "
            ],
            "text/html": [
              "\n",
              "  <div id=\"df-17dcbda9-2885-4966-bd80-abe1bb15ff22\" class=\"colab-df-container\">\n",
              "    <div>\n",
              "<style scoped>\n",
              "    .dataframe tbody tr th:only-of-type {\n",
              "        vertical-align: middle;\n",
              "    }\n",
              "\n",
              "    .dataframe tbody tr th {\n",
              "        vertical-align: top;\n",
              "    }\n",
              "\n",
              "    .dataframe thead th {\n",
              "        text-align: right;\n",
              "    }\n",
              "</style>\n",
              "<table border=\"1\" class=\"dataframe\">\n",
              "  <thead>\n",
              "    <tr style=\"text-align: right;\">\n",
              "      <th></th>\n",
              "      <th>ID</th>\n",
              "      <th>name</th>\n",
              "      <th>category</th>\n",
              "      <th>main_category</th>\n",
              "      <th>currency</th>\n",
              "      <th>deadline</th>\n",
              "      <th>goal</th>\n",
              "      <th>launched</th>\n",
              "      <th>pledged</th>\n",
              "      <th>state</th>\n",
              "      <th>backers</th>\n",
              "      <th>country</th>\n",
              "      <th>usd pledged</th>\n",
              "    </tr>\n",
              "  </thead>\n",
              "  <tbody>\n",
              "    <tr>\n",
              "      <th>0</th>\n",
              "      <td>1000002330</td>\n",
              "      <td>The Songs of Adelaide &amp; Abullah</td>\n",
              "      <td>poetry</td>\n",
              "      <td>publishing</td>\n",
              "      <td>GBP</td>\n",
              "      <td>2015-10-09</td>\n",
              "      <td>1000</td>\n",
              "      <td>2015-08-11</td>\n",
              "      <td>0</td>\n",
              "      <td>failed</td>\n",
              "      <td>0</td>\n",
              "      <td>GB</td>\n",
              "      <td>0</td>\n",
              "    </tr>\n",
              "    <tr>\n",
              "      <th>1</th>\n",
              "      <td>1000004038</td>\n",
              "      <td>Where is Hank?</td>\n",
              "      <td>narrative film</td>\n",
              "      <td>film &amp; video</td>\n",
              "      <td>USD</td>\n",
              "      <td>2013-02-26</td>\n",
              "      <td>45000</td>\n",
              "      <td>2013-01-12</td>\n",
              "      <td>220</td>\n",
              "      <td>failed</td>\n",
              "      <td>3</td>\n",
              "      <td>US</td>\n",
              "      <td>220</td>\n",
              "    </tr>\n",
              "    <tr>\n",
              "      <th>2</th>\n",
              "      <td>1000007540</td>\n",
              "      <td>ToshiCapital Rekordz Needs Help to Complete Album</td>\n",
              "      <td>music</td>\n",
              "      <td>music</td>\n",
              "      <td>USD</td>\n",
              "      <td>2012-04-16</td>\n",
              "      <td>5000</td>\n",
              "      <td>2012-03-17</td>\n",
              "      <td>1</td>\n",
              "      <td>failed</td>\n",
              "      <td>1</td>\n",
              "      <td>US</td>\n",
              "      <td>1</td>\n",
              "    </tr>\n",
              "    <tr>\n",
              "      <th>3</th>\n",
              "      <td>1000011046</td>\n",
              "      <td>Community Film Project: The Art of Neighborhoo...</td>\n",
              "      <td>film &amp; video</td>\n",
              "      <td>film &amp; video</td>\n",
              "      <td>USD</td>\n",
              "      <td>2015-08-29</td>\n",
              "      <td>19500</td>\n",
              "      <td>2015-07-04</td>\n",
              "      <td>1283</td>\n",
              "      <td>canceled</td>\n",
              "      <td>14</td>\n",
              "      <td>US</td>\n",
              "      <td>1283</td>\n",
              "    </tr>\n",
              "    <tr>\n",
              "      <th>4</th>\n",
              "      <td>1000014025</td>\n",
              "      <td>Monarch Espresso Bar</td>\n",
              "      <td>restaurants</td>\n",
              "      <td>food</td>\n",
              "      <td>USD</td>\n",
              "      <td>2016-04-01</td>\n",
              "      <td>50000</td>\n",
              "      <td>2016-02-26</td>\n",
              "      <td>52375</td>\n",
              "      <td>successful</td>\n",
              "      <td>224</td>\n",
              "      <td>US</td>\n",
              "      <td>52375</td>\n",
              "    </tr>\n",
              "  </tbody>\n",
              "</table>\n",
              "</div>\n",
              "    <div class=\"colab-df-buttons\">\n",
              "\n",
              "  <div class=\"colab-df-container\">\n",
              "    <button class=\"colab-df-convert\" onclick=\"convertToInteractive('df-17dcbda9-2885-4966-bd80-abe1bb15ff22')\"\n",
              "            title=\"Convert this dataframe to an interactive table.\"\n",
              "            style=\"display:none;\">\n",
              "\n",
              "  <svg xmlns=\"http://www.w3.org/2000/svg\" height=\"24px\" viewBox=\"0 -960 960 960\">\n",
              "    <path d=\"M120-120v-720h720v720H120Zm60-500h600v-160H180v160Zm220 220h160v-160H400v160Zm0 220h160v-160H400v160ZM180-400h160v-160H180v160Zm440 0h160v-160H620v160ZM180-180h160v-160H180v160Zm440 0h160v-160H620v160Z\"/>\n",
              "  </svg>\n",
              "    </button>\n",
              "\n",
              "  <style>\n",
              "    .colab-df-container {\n",
              "      display:flex;\n",
              "      gap: 12px;\n",
              "    }\n",
              "\n",
              "    .colab-df-convert {\n",
              "      background-color: #E8F0FE;\n",
              "      border: none;\n",
              "      border-radius: 50%;\n",
              "      cursor: pointer;\n",
              "      display: none;\n",
              "      fill: #1967D2;\n",
              "      height: 32px;\n",
              "      padding: 0 0 0 0;\n",
              "      width: 32px;\n",
              "    }\n",
              "\n",
              "    .colab-df-convert:hover {\n",
              "      background-color: #E2EBFA;\n",
              "      box-shadow: 0px 1px 2px rgba(60, 64, 67, 0.3), 0px 1px 3px 1px rgba(60, 64, 67, 0.15);\n",
              "      fill: #174EA6;\n",
              "    }\n",
              "\n",
              "    .colab-df-buttons div {\n",
              "      margin-bottom: 4px;\n",
              "    }\n",
              "\n",
              "    [theme=dark] .colab-df-convert {\n",
              "      background-color: #3B4455;\n",
              "      fill: #D2E3FC;\n",
              "    }\n",
              "\n",
              "    [theme=dark] .colab-df-convert:hover {\n",
              "      background-color: #434B5C;\n",
              "      box-shadow: 0px 1px 3px 1px rgba(0, 0, 0, 0.15);\n",
              "      filter: drop-shadow(0px 1px 2px rgba(0, 0, 0, 0.3));\n",
              "      fill: #FFFFFF;\n",
              "    }\n",
              "  </style>\n",
              "\n",
              "    <script>\n",
              "      const buttonEl =\n",
              "        document.querySelector('#df-17dcbda9-2885-4966-bd80-abe1bb15ff22 button.colab-df-convert');\n",
              "      buttonEl.style.display =\n",
              "        google.colab.kernel.accessAllowed ? 'block' : 'none';\n",
              "\n",
              "      async function convertToInteractive(key) {\n",
              "        const element = document.querySelector('#df-17dcbda9-2885-4966-bd80-abe1bb15ff22');\n",
              "        const dataTable =\n",
              "          await google.colab.kernel.invokeFunction('convertToInteractive',\n",
              "                                                    [key], {});\n",
              "        if (!dataTable) return;\n",
              "\n",
              "        const docLinkHtml = 'Like what you see? Visit the ' +\n",
              "          '<a target=\"_blank\" href=https://colab.research.google.com/notebooks/data_table.ipynb>data table notebook</a>'\n",
              "          + ' to learn more about interactive tables.';\n",
              "        element.innerHTML = '';\n",
              "        dataTable['output_type'] = 'display_data';\n",
              "        await google.colab.output.renderOutput(dataTable, element);\n",
              "        const docLink = document.createElement('div');\n",
              "        docLink.innerHTML = docLinkHtml;\n",
              "        element.appendChild(docLink);\n",
              "      }\n",
              "    </script>\n",
              "  </div>\n",
              "\n",
              "\n",
              "<div id=\"df-23a273e5-6c4a-462d-b98a-edc77524edf9\">\n",
              "  <button class=\"colab-df-quickchart\" onclick=\"quickchart('df-23a273e5-6c4a-462d-b98a-edc77524edf9')\"\n",
              "            title=\"Suggest charts\"\n",
              "            style=\"display:none;\">\n",
              "\n",
              "<svg xmlns=\"http://www.w3.org/2000/svg\" height=\"24px\"viewBox=\"0 0 24 24\"\n",
              "     width=\"24px\">\n",
              "    <g>\n",
              "        <path d=\"M19 3H5c-1.1 0-2 .9-2 2v14c0 1.1.9 2 2 2h14c1.1 0 2-.9 2-2V5c0-1.1-.9-2-2-2zM9 17H7v-7h2v7zm4 0h-2V7h2v10zm4 0h-2v-4h2v4z\"/>\n",
              "    </g>\n",
              "</svg>\n",
              "  </button>\n",
              "\n",
              "<style>\n",
              "  .colab-df-quickchart {\n",
              "      --bg-color: #E8F0FE;\n",
              "      --fill-color: #1967D2;\n",
              "      --hover-bg-color: #E2EBFA;\n",
              "      --hover-fill-color: #174EA6;\n",
              "      --disabled-fill-color: #AAA;\n",
              "      --disabled-bg-color: #DDD;\n",
              "  }\n",
              "\n",
              "  [theme=dark] .colab-df-quickchart {\n",
              "      --bg-color: #3B4455;\n",
              "      --fill-color: #D2E3FC;\n",
              "      --hover-bg-color: #434B5C;\n",
              "      --hover-fill-color: #FFFFFF;\n",
              "      --disabled-bg-color: #3B4455;\n",
              "      --disabled-fill-color: #666;\n",
              "  }\n",
              "\n",
              "  .colab-df-quickchart {\n",
              "    background-color: var(--bg-color);\n",
              "    border: none;\n",
              "    border-radius: 50%;\n",
              "    cursor: pointer;\n",
              "    display: none;\n",
              "    fill: var(--fill-color);\n",
              "    height: 32px;\n",
              "    padding: 0;\n",
              "    width: 32px;\n",
              "  }\n",
              "\n",
              "  .colab-df-quickchart:hover {\n",
              "    background-color: var(--hover-bg-color);\n",
              "    box-shadow: 0 1px 2px rgba(60, 64, 67, 0.3), 0 1px 3px 1px rgba(60, 64, 67, 0.15);\n",
              "    fill: var(--button-hover-fill-color);\n",
              "  }\n",
              "\n",
              "  .colab-df-quickchart-complete:disabled,\n",
              "  .colab-df-quickchart-complete:disabled:hover {\n",
              "    background-color: var(--disabled-bg-color);\n",
              "    fill: var(--disabled-fill-color);\n",
              "    box-shadow: none;\n",
              "  }\n",
              "\n",
              "  .colab-df-spinner {\n",
              "    border: 2px solid var(--fill-color);\n",
              "    border-color: transparent;\n",
              "    border-bottom-color: var(--fill-color);\n",
              "    animation:\n",
              "      spin 1s steps(1) infinite;\n",
              "  }\n",
              "\n",
              "  @keyframes spin {\n",
              "    0% {\n",
              "      border-color: transparent;\n",
              "      border-bottom-color: var(--fill-color);\n",
              "      border-left-color: var(--fill-color);\n",
              "    }\n",
              "    20% {\n",
              "      border-color: transparent;\n",
              "      border-left-color: var(--fill-color);\n",
              "      border-top-color: var(--fill-color);\n",
              "    }\n",
              "    30% {\n",
              "      border-color: transparent;\n",
              "      border-left-color: var(--fill-color);\n",
              "      border-top-color: var(--fill-color);\n",
              "      border-right-color: var(--fill-color);\n",
              "    }\n",
              "    40% {\n",
              "      border-color: transparent;\n",
              "      border-right-color: var(--fill-color);\n",
              "      border-top-color: var(--fill-color);\n",
              "    }\n",
              "    60% {\n",
              "      border-color: transparent;\n",
              "      border-right-color: var(--fill-color);\n",
              "    }\n",
              "    80% {\n",
              "      border-color: transparent;\n",
              "      border-right-color: var(--fill-color);\n",
              "      border-bottom-color: var(--fill-color);\n",
              "    }\n",
              "    90% {\n",
              "      border-color: transparent;\n",
              "      border-bottom-color: var(--fill-color);\n",
              "    }\n",
              "  }\n",
              "</style>\n",
              "\n",
              "  <script>\n",
              "    async function quickchart(key) {\n",
              "      const quickchartButtonEl =\n",
              "        document.querySelector('#' + key + ' button');\n",
              "      quickchartButtonEl.disabled = true;  // To prevent multiple clicks.\n",
              "      quickchartButtonEl.classList.add('colab-df-spinner');\n",
              "      try {\n",
              "        const charts = await google.colab.kernel.invokeFunction(\n",
              "            'suggestCharts', [key], {});\n",
              "      } catch (error) {\n",
              "        console.error('Error during call to suggestCharts:', error);\n",
              "      }\n",
              "      quickchartButtonEl.classList.remove('colab-df-spinner');\n",
              "      quickchartButtonEl.classList.add('colab-df-quickchart-complete');\n",
              "    }\n",
              "    (() => {\n",
              "      let quickchartButtonEl =\n",
              "        document.querySelector('#df-23a273e5-6c4a-462d-b98a-edc77524edf9 button');\n",
              "      quickchartButtonEl.style.display =\n",
              "        google.colab.kernel.accessAllowed ? 'block' : 'none';\n",
              "    })();\n",
              "  </script>\n",
              "</div>\n",
              "\n",
              "    </div>\n",
              "  </div>\n"
            ],
            "application/vnd.google.colaboratory.intrinsic+json": {
              "type": "dataframe",
              "variable_name": "df_cleaned"
            }
          },
          "metadata": {},
          "execution_count": 24
        }
      ]
    },
    {
      "cell_type": "code",
      "source": [],
      "metadata": {
        "id": "I_SatGuOygn0"
      },
      "execution_count": 24,
      "outputs": []
    },
    {
      "cell_type": "markdown",
      "source": [
        "# Part 2: Data Preprocessing"
      ],
      "metadata": {
        "id": "xzBXPhCfyhVi"
      }
    },
    {
      "cell_type": "markdown",
      "source": [
        "## Feature Engineering"
      ],
      "metadata": {
        "id": "uSbdhIGnKwMo"
      }
    },
    {
      "cell_type": "code",
      "source": [
        "# Convert deadline & launched to datetime format\n",
        "df_cleaned[\"deadline\"] = pd.to_datetime(df_cleaned[\"deadline\"], errors='coerce')\n",
        "df_cleaned[\"launched\"] = pd.to_datetime(df_cleaned[\"launched\"], errors='coerce')"
      ],
      "metadata": {
        "id": "-V0yNgp2Kmh4"
      },
      "execution_count": 25,
      "outputs": []
    },
    {
      "cell_type": "code",
      "source": [
        "# Calculate Project Duration\n",
        "df_cleaned[\"project_duration\"] = (df_cleaned[\"deadline\"] - df_cleaned[\"launched\"]).dt.days"
      ],
      "metadata": {
        "id": "lJcnWZgtymAI"
      },
      "execution_count": 26,
      "outputs": []
    },
    {
      "cell_type": "code",
      "source": [
        "# Create Funding Goal Ratio, converting the 2 columns to a numeric format\n",
        "df_cleaned[\"usd pledged\"] = pd.to_numeric(df_cleaned[\"usd pledged\"], errors='coerce')\n",
        "df_cleaned[\"goal\"] = pd.to_numeric(df_cleaned[\"goal\"], errors='coerce')\n",
        "\n",
        "df_cleaned[\"funding_goal_ratio\"] = df_cleaned[\"usd pledged\"] / df_cleaned[\"goal\"]"
      ],
      "metadata": {
        "id": "IVrCBIBZAxvz"
      },
      "execution_count": 27,
      "outputs": []
    },
    {
      "cell_type": "code",
      "source": [
        "df_cleaned[\"funding_goal_ratio\"].fillna(0, inplace=True)  # Replace NaN (caused by division by zero)"
      ],
      "metadata": {
        "colab": {
          "base_uri": "https://localhost:8080/"
        },
        "id": "coigkuXiL_bg",
        "outputId": "d60dce2b-6dd7-4179-c422-8fe8d84c5502"
      },
      "execution_count": 28,
      "outputs": [
        {
          "output_type": "stream",
          "name": "stderr",
          "text": [
            "<ipython-input-28-884939acb310>:1: FutureWarning: A value is trying to be set on a copy of a DataFrame or Series through chained assignment using an inplace method.\n",
            "The behavior will change in pandas 3.0. This inplace method will never work because the intermediate object on which we are setting values always behaves as a copy.\n",
            "\n",
            "For example, when doing 'df[col].method(value, inplace=True)', try using 'df.method({col: value}, inplace=True)' or df[col] = df[col].method(value) instead, to perform the operation inplace on the original object.\n",
            "\n",
            "\n",
            "  df_cleaned[\"funding_goal_ratio\"].fillna(0, inplace=True)  # Replace NaN (caused by division by zero)\n"
          ]
        }
      ]
    },
    {
      "cell_type": "code",
      "source": [
        "# Extract Launch Month and Day of the Week\n",
        "df_cleaned[\"launch_month\"] = df_cleaned[\"launched\"].dt.month\n",
        "df_cleaned[\"launch_day\"] = df_cleaned[\"launched\"].dt.dayofweek"
      ],
      "metadata": {
        "id": "pj0bp6OXMrkV"
      },
      "execution_count": 29,
      "outputs": []
    },
    {
      "cell_type": "code",
      "source": [
        "from sklearn.preprocessing import LabelEncoder, MinMaxScaler"
      ],
      "metadata": {
        "id": "oLUOQk9KUgo3"
      },
      "execution_count": 30,
      "outputs": []
    },
    {
      "cell_type": "code",
      "source": [
        "# Encoding Categorical Variables\n",
        "label_encoders = {}\n",
        "categorical_cols = [\"category\", \"main_category\", \"country\", \"currency\", \"state\"]\n",
        "\n",
        "for col in categorical_cols:\n",
        "    le = LabelEncoder()\n",
        "    df_cleaned[col] = le.fit_transform(df_cleaned[col])\n",
        "    label_encoders[col] = le  # Store label encoders for later use"
      ],
      "metadata": {
        "id": "3nJi0fXjNoMW"
      },
      "execution_count": 31,
      "outputs": []
    },
    {
      "cell_type": "code",
      "source": [
        "# Scaling Numerical Variables\n",
        "num_cols = [\"goal\", \"pledged\", \"backers\", \"project_duration\", \"funding_goal_ratio\"]\n",
        "scaler = MinMaxScaler()\n",
        "df_cleaned[num_cols] = scaler.fit_transform(df_cleaned[num_cols])"
      ],
      "metadata": {
        "id": "bBCCzAAoUa-d"
      },
      "execution_count": 32,
      "outputs": []
    },
    {
      "cell_type": "code",
      "source": [
        "from IPython.display import display\n",
        "display(df_cleaned.head())"
      ],
      "metadata": {
        "colab": {
          "base_uri": "https://localhost:8080/",
          "height": 434
        },
        "id": "CjqQbRiWUycZ",
        "outputId": "040af237-fb55-4075-bc65-f3a98d2ed872"
      },
      "execution_count": 33,
      "outputs": [
        {
          "output_type": "display_data",
          "data": {
            "text/plain": [
              "           ID                                               name  category  \\\n",
              "0  1000002330                    The Songs of Adelaide & Abullah       107   \n",
              "1  1000004038                                     Where is Hank?        92   \n",
              "2  1000007540  ToshiCapital Rekordz Needs Help to Complete Album        89   \n",
              "3  1000011046  Community Film Project: The Art of Neighborhoo...        55   \n",
              "4  1000014025                               Monarch Espresso Bar       122   \n",
              "\n",
              "   main_category  currency   deadline      goal   launched       pledged  \\\n",
              "0             12         5 2015-10-09  0.000010 2015-08-11  0.000000e+00   \n",
              "1              6        12 2013-02-26  0.000450 2013-01-12  1.081666e-05   \n",
              "2             10        12 2012-04-16  0.000050 2012-03-17  4.916666e-08   \n",
              "3              6        12 2015-08-29  0.000195 2015-07-04  6.308082e-05   \n",
              "4              7        12 2016-04-01  0.000500 2016-02-26  2.575104e-03   \n",
              "\n",
              "   state   backers  country  usd pledged  project_duration  \\\n",
              "0      1  0.000000        9          0.0          0.003465   \n",
              "1      1  0.000014       21        220.0          0.002629   \n",
              "2      1  0.000005       21          1.0          0.001733   \n",
              "3      0  0.000064       21       1283.0          0.003286   \n",
              "4      3  0.001021       21      52375.0          0.002031   \n",
              "\n",
              "   funding_goal_ratio  launch_month  launch_day  \n",
              "0        0.000000e+00             8           1  \n",
              "1        8.846015e-08             1           5  \n",
              "2        3.618824e-09             3           5  \n",
              "3        1.190500e-06             7           5  \n",
              "4        1.895359e-05             2           4  "
            ],
            "text/html": [
              "\n",
              "  <div id=\"df-42d38c42-2f8b-4522-9c33-2e30c4574539\" class=\"colab-df-container\">\n",
              "    <div>\n",
              "<style scoped>\n",
              "    .dataframe tbody tr th:only-of-type {\n",
              "        vertical-align: middle;\n",
              "    }\n",
              "\n",
              "    .dataframe tbody tr th {\n",
              "        vertical-align: top;\n",
              "    }\n",
              "\n",
              "    .dataframe thead th {\n",
              "        text-align: right;\n",
              "    }\n",
              "</style>\n",
              "<table border=\"1\" class=\"dataframe\">\n",
              "  <thead>\n",
              "    <tr style=\"text-align: right;\">\n",
              "      <th></th>\n",
              "      <th>ID</th>\n",
              "      <th>name</th>\n",
              "      <th>category</th>\n",
              "      <th>main_category</th>\n",
              "      <th>currency</th>\n",
              "      <th>deadline</th>\n",
              "      <th>goal</th>\n",
              "      <th>launched</th>\n",
              "      <th>pledged</th>\n",
              "      <th>state</th>\n",
              "      <th>backers</th>\n",
              "      <th>country</th>\n",
              "      <th>usd pledged</th>\n",
              "      <th>project_duration</th>\n",
              "      <th>funding_goal_ratio</th>\n",
              "      <th>launch_month</th>\n",
              "      <th>launch_day</th>\n",
              "    </tr>\n",
              "  </thead>\n",
              "  <tbody>\n",
              "    <tr>\n",
              "      <th>0</th>\n",
              "      <td>1000002330</td>\n",
              "      <td>The Songs of Adelaide &amp; Abullah</td>\n",
              "      <td>107</td>\n",
              "      <td>12</td>\n",
              "      <td>5</td>\n",
              "      <td>2015-10-09</td>\n",
              "      <td>0.000010</td>\n",
              "      <td>2015-08-11</td>\n",
              "      <td>0.000000e+00</td>\n",
              "      <td>1</td>\n",
              "      <td>0.000000</td>\n",
              "      <td>9</td>\n",
              "      <td>0.0</td>\n",
              "      <td>0.003465</td>\n",
              "      <td>0.000000e+00</td>\n",
              "      <td>8</td>\n",
              "      <td>1</td>\n",
              "    </tr>\n",
              "    <tr>\n",
              "      <th>1</th>\n",
              "      <td>1000004038</td>\n",
              "      <td>Where is Hank?</td>\n",
              "      <td>92</td>\n",
              "      <td>6</td>\n",
              "      <td>12</td>\n",
              "      <td>2013-02-26</td>\n",
              "      <td>0.000450</td>\n",
              "      <td>2013-01-12</td>\n",
              "      <td>1.081666e-05</td>\n",
              "      <td>1</td>\n",
              "      <td>0.000014</td>\n",
              "      <td>21</td>\n",
              "      <td>220.0</td>\n",
              "      <td>0.002629</td>\n",
              "      <td>8.846015e-08</td>\n",
              "      <td>1</td>\n",
              "      <td>5</td>\n",
              "    </tr>\n",
              "    <tr>\n",
              "      <th>2</th>\n",
              "      <td>1000007540</td>\n",
              "      <td>ToshiCapital Rekordz Needs Help to Complete Album</td>\n",
              "      <td>89</td>\n",
              "      <td>10</td>\n",
              "      <td>12</td>\n",
              "      <td>2012-04-16</td>\n",
              "      <td>0.000050</td>\n",
              "      <td>2012-03-17</td>\n",
              "      <td>4.916666e-08</td>\n",
              "      <td>1</td>\n",
              "      <td>0.000005</td>\n",
              "      <td>21</td>\n",
              "      <td>1.0</td>\n",
              "      <td>0.001733</td>\n",
              "      <td>3.618824e-09</td>\n",
              "      <td>3</td>\n",
              "      <td>5</td>\n",
              "    </tr>\n",
              "    <tr>\n",
              "      <th>3</th>\n",
              "      <td>1000011046</td>\n",
              "      <td>Community Film Project: The Art of Neighborhoo...</td>\n",
              "      <td>55</td>\n",
              "      <td>6</td>\n",
              "      <td>12</td>\n",
              "      <td>2015-08-29</td>\n",
              "      <td>0.000195</td>\n",
              "      <td>2015-07-04</td>\n",
              "      <td>6.308082e-05</td>\n",
              "      <td>0</td>\n",
              "      <td>0.000064</td>\n",
              "      <td>21</td>\n",
              "      <td>1283.0</td>\n",
              "      <td>0.003286</td>\n",
              "      <td>1.190500e-06</td>\n",
              "      <td>7</td>\n",
              "      <td>5</td>\n",
              "    </tr>\n",
              "    <tr>\n",
              "      <th>4</th>\n",
              "      <td>1000014025</td>\n",
              "      <td>Monarch Espresso Bar</td>\n",
              "      <td>122</td>\n",
              "      <td>7</td>\n",
              "      <td>12</td>\n",
              "      <td>2016-04-01</td>\n",
              "      <td>0.000500</td>\n",
              "      <td>2016-02-26</td>\n",
              "      <td>2.575104e-03</td>\n",
              "      <td>3</td>\n",
              "      <td>0.001021</td>\n",
              "      <td>21</td>\n",
              "      <td>52375.0</td>\n",
              "      <td>0.002031</td>\n",
              "      <td>1.895359e-05</td>\n",
              "      <td>2</td>\n",
              "      <td>4</td>\n",
              "    </tr>\n",
              "  </tbody>\n",
              "</table>\n",
              "</div>\n",
              "    <div class=\"colab-df-buttons\">\n",
              "\n",
              "  <div class=\"colab-df-container\">\n",
              "    <button class=\"colab-df-convert\" onclick=\"convertToInteractive('df-42d38c42-2f8b-4522-9c33-2e30c4574539')\"\n",
              "            title=\"Convert this dataframe to an interactive table.\"\n",
              "            style=\"display:none;\">\n",
              "\n",
              "  <svg xmlns=\"http://www.w3.org/2000/svg\" height=\"24px\" viewBox=\"0 -960 960 960\">\n",
              "    <path d=\"M120-120v-720h720v720H120Zm60-500h600v-160H180v160Zm220 220h160v-160H400v160Zm0 220h160v-160H400v160ZM180-400h160v-160H180v160Zm440 0h160v-160H620v160ZM180-180h160v-160H180v160Zm440 0h160v-160H620v160Z\"/>\n",
              "  </svg>\n",
              "    </button>\n",
              "\n",
              "  <style>\n",
              "    .colab-df-container {\n",
              "      display:flex;\n",
              "      gap: 12px;\n",
              "    }\n",
              "\n",
              "    .colab-df-convert {\n",
              "      background-color: #E8F0FE;\n",
              "      border: none;\n",
              "      border-radius: 50%;\n",
              "      cursor: pointer;\n",
              "      display: none;\n",
              "      fill: #1967D2;\n",
              "      height: 32px;\n",
              "      padding: 0 0 0 0;\n",
              "      width: 32px;\n",
              "    }\n",
              "\n",
              "    .colab-df-convert:hover {\n",
              "      background-color: #E2EBFA;\n",
              "      box-shadow: 0px 1px 2px rgba(60, 64, 67, 0.3), 0px 1px 3px 1px rgba(60, 64, 67, 0.15);\n",
              "      fill: #174EA6;\n",
              "    }\n",
              "\n",
              "    .colab-df-buttons div {\n",
              "      margin-bottom: 4px;\n",
              "    }\n",
              "\n",
              "    [theme=dark] .colab-df-convert {\n",
              "      background-color: #3B4455;\n",
              "      fill: #D2E3FC;\n",
              "    }\n",
              "\n",
              "    [theme=dark] .colab-df-convert:hover {\n",
              "      background-color: #434B5C;\n",
              "      box-shadow: 0px 1px 3px 1px rgba(0, 0, 0, 0.15);\n",
              "      filter: drop-shadow(0px 1px 2px rgba(0, 0, 0, 0.3));\n",
              "      fill: #FFFFFF;\n",
              "    }\n",
              "  </style>\n",
              "\n",
              "    <script>\n",
              "      const buttonEl =\n",
              "        document.querySelector('#df-42d38c42-2f8b-4522-9c33-2e30c4574539 button.colab-df-convert');\n",
              "      buttonEl.style.display =\n",
              "        google.colab.kernel.accessAllowed ? 'block' : 'none';\n",
              "\n",
              "      async function convertToInteractive(key) {\n",
              "        const element = document.querySelector('#df-42d38c42-2f8b-4522-9c33-2e30c4574539');\n",
              "        const dataTable =\n",
              "          await google.colab.kernel.invokeFunction('convertToInteractive',\n",
              "                                                    [key], {});\n",
              "        if (!dataTable) return;\n",
              "\n",
              "        const docLinkHtml = 'Like what you see? Visit the ' +\n",
              "          '<a target=\"_blank\" href=https://colab.research.google.com/notebooks/data_table.ipynb>data table notebook</a>'\n",
              "          + ' to learn more about interactive tables.';\n",
              "        element.innerHTML = '';\n",
              "        dataTable['output_type'] = 'display_data';\n",
              "        await google.colab.output.renderOutput(dataTable, element);\n",
              "        const docLink = document.createElement('div');\n",
              "        docLink.innerHTML = docLinkHtml;\n",
              "        element.appendChild(docLink);\n",
              "      }\n",
              "    </script>\n",
              "  </div>\n",
              "\n",
              "\n",
              "<div id=\"df-3d9cb1a6-3c51-45b9-b00a-7b6abd423e35\">\n",
              "  <button class=\"colab-df-quickchart\" onclick=\"quickchart('df-3d9cb1a6-3c51-45b9-b00a-7b6abd423e35')\"\n",
              "            title=\"Suggest charts\"\n",
              "            style=\"display:none;\">\n",
              "\n",
              "<svg xmlns=\"http://www.w3.org/2000/svg\" height=\"24px\"viewBox=\"0 0 24 24\"\n",
              "     width=\"24px\">\n",
              "    <g>\n",
              "        <path d=\"M19 3H5c-1.1 0-2 .9-2 2v14c0 1.1.9 2 2 2h14c1.1 0 2-.9 2-2V5c0-1.1-.9-2-2-2zM9 17H7v-7h2v7zm4 0h-2V7h2v10zm4 0h-2v-4h2v4z\"/>\n",
              "    </g>\n",
              "</svg>\n",
              "  </button>\n",
              "\n",
              "<style>\n",
              "  .colab-df-quickchart {\n",
              "      --bg-color: #E8F0FE;\n",
              "      --fill-color: #1967D2;\n",
              "      --hover-bg-color: #E2EBFA;\n",
              "      --hover-fill-color: #174EA6;\n",
              "      --disabled-fill-color: #AAA;\n",
              "      --disabled-bg-color: #DDD;\n",
              "  }\n",
              "\n",
              "  [theme=dark] .colab-df-quickchart {\n",
              "      --bg-color: #3B4455;\n",
              "      --fill-color: #D2E3FC;\n",
              "      --hover-bg-color: #434B5C;\n",
              "      --hover-fill-color: #FFFFFF;\n",
              "      --disabled-bg-color: #3B4455;\n",
              "      --disabled-fill-color: #666;\n",
              "  }\n",
              "\n",
              "  .colab-df-quickchart {\n",
              "    background-color: var(--bg-color);\n",
              "    border: none;\n",
              "    border-radius: 50%;\n",
              "    cursor: pointer;\n",
              "    display: none;\n",
              "    fill: var(--fill-color);\n",
              "    height: 32px;\n",
              "    padding: 0;\n",
              "    width: 32px;\n",
              "  }\n",
              "\n",
              "  .colab-df-quickchart:hover {\n",
              "    background-color: var(--hover-bg-color);\n",
              "    box-shadow: 0 1px 2px rgba(60, 64, 67, 0.3), 0 1px 3px 1px rgba(60, 64, 67, 0.15);\n",
              "    fill: var(--button-hover-fill-color);\n",
              "  }\n",
              "\n",
              "  .colab-df-quickchart-complete:disabled,\n",
              "  .colab-df-quickchart-complete:disabled:hover {\n",
              "    background-color: var(--disabled-bg-color);\n",
              "    fill: var(--disabled-fill-color);\n",
              "    box-shadow: none;\n",
              "  }\n",
              "\n",
              "  .colab-df-spinner {\n",
              "    border: 2px solid var(--fill-color);\n",
              "    border-color: transparent;\n",
              "    border-bottom-color: var(--fill-color);\n",
              "    animation:\n",
              "      spin 1s steps(1) infinite;\n",
              "  }\n",
              "\n",
              "  @keyframes spin {\n",
              "    0% {\n",
              "      border-color: transparent;\n",
              "      border-bottom-color: var(--fill-color);\n",
              "      border-left-color: var(--fill-color);\n",
              "    }\n",
              "    20% {\n",
              "      border-color: transparent;\n",
              "      border-left-color: var(--fill-color);\n",
              "      border-top-color: var(--fill-color);\n",
              "    }\n",
              "    30% {\n",
              "      border-color: transparent;\n",
              "      border-left-color: var(--fill-color);\n",
              "      border-top-color: var(--fill-color);\n",
              "      border-right-color: var(--fill-color);\n",
              "    }\n",
              "    40% {\n",
              "      border-color: transparent;\n",
              "      border-right-color: var(--fill-color);\n",
              "      border-top-color: var(--fill-color);\n",
              "    }\n",
              "    60% {\n",
              "      border-color: transparent;\n",
              "      border-right-color: var(--fill-color);\n",
              "    }\n",
              "    80% {\n",
              "      border-color: transparent;\n",
              "      border-right-color: var(--fill-color);\n",
              "      border-bottom-color: var(--fill-color);\n",
              "    }\n",
              "    90% {\n",
              "      border-color: transparent;\n",
              "      border-bottom-color: var(--fill-color);\n",
              "    }\n",
              "  }\n",
              "</style>\n",
              "\n",
              "  <script>\n",
              "    async function quickchart(key) {\n",
              "      const quickchartButtonEl =\n",
              "        document.querySelector('#' + key + ' button');\n",
              "      quickchartButtonEl.disabled = true;  // To prevent multiple clicks.\n",
              "      quickchartButtonEl.classList.add('colab-df-spinner');\n",
              "      try {\n",
              "        const charts = await google.colab.kernel.invokeFunction(\n",
              "            'suggestCharts', [key], {});\n",
              "      } catch (error) {\n",
              "        console.error('Error during call to suggestCharts:', error);\n",
              "      }\n",
              "      quickchartButtonEl.classList.remove('colab-df-spinner');\n",
              "      quickchartButtonEl.classList.add('colab-df-quickchart-complete');\n",
              "    }\n",
              "    (() => {\n",
              "      let quickchartButtonEl =\n",
              "        document.querySelector('#df-3d9cb1a6-3c51-45b9-b00a-7b6abd423e35 button');\n",
              "      quickchartButtonEl.style.display =\n",
              "        google.colab.kernel.accessAllowed ? 'block' : 'none';\n",
              "    })();\n",
              "  </script>\n",
              "</div>\n",
              "\n",
              "    </div>\n",
              "  </div>\n"
            ],
            "application/vnd.google.colaboratory.intrinsic+json": {
              "type": "dataframe",
              "summary": "{\n  \"name\": \"display(df_cleaned\",\n  \"rows\": 5,\n  \"fields\": [\n    {\n      \"column\": \"ID\",\n      \"properties\": {\n        \"dtype\": \"number\",\n        \"std\": 4832,\n        \"min\": 1000002330,\n        \"max\": 1000014025,\n        \"num_unique_values\": 5,\n        \"samples\": [\n          1000004038,\n          1000014025,\n          1000007540\n        ],\n        \"semantic_type\": \"\",\n        \"description\": \"\"\n      }\n    },\n    {\n      \"column\": \"name\",\n      \"properties\": {\n        \"dtype\": \"string\",\n        \"num_unique_values\": 5,\n        \"samples\": [\n          \"Where is Hank?\",\n          \"Monarch Espresso Bar\",\n          \"ToshiCapital Rekordz Needs Help to Complete Album\"\n        ],\n        \"semantic_type\": \"\",\n        \"description\": \"\"\n      }\n    },\n    {\n      \"column\": \"category\",\n      \"properties\": {\n        \"dtype\": \"number\",\n        \"std\": 24,\n        \"min\": 55,\n        \"max\": 122,\n        \"num_unique_values\": 5,\n        \"samples\": [\n          92,\n          122,\n          89\n        ],\n        \"semantic_type\": \"\",\n        \"description\": \"\"\n      }\n    },\n    {\n      \"column\": \"main_category\",\n      \"properties\": {\n        \"dtype\": \"number\",\n        \"std\": 2,\n        \"min\": 6,\n        \"max\": 12,\n        \"num_unique_values\": 4,\n        \"samples\": [\n          6,\n          7,\n          12\n        ],\n        \"semantic_type\": \"\",\n        \"description\": \"\"\n      }\n    },\n    {\n      \"column\": \"currency\",\n      \"properties\": {\n        \"dtype\": \"number\",\n        \"std\": 3,\n        \"min\": 5,\n        \"max\": 12,\n        \"num_unique_values\": 2,\n        \"samples\": [\n          12,\n          5\n        ],\n        \"semantic_type\": \"\",\n        \"description\": \"\"\n      }\n    },\n    {\n      \"column\": \"deadline\",\n      \"properties\": {\n        \"dtype\": \"date\",\n        \"min\": \"2012-04-16 00:00:00\",\n        \"max\": \"2016-04-01 00:00:00\",\n        \"num_unique_values\": 5,\n        \"samples\": [\n          \"2013-02-26 00:00:00\",\n          \"2016-04-01 00:00:00\"\n        ],\n        \"semantic_type\": \"\",\n        \"description\": \"\"\n      }\n    },\n    {\n      \"column\": \"goal\",\n      \"properties\": {\n        \"dtype\": \"number\",\n        \"std\": 0.0002251221890665956,\n        \"min\": 9.99990000099999e-06,\n        \"max\": 0.00049999990005,\n        \"num_unique_values\": 5,\n        \"samples\": [\n          0.000449999900045,\n          0.00049999990005\n        ],\n        \"semantic_type\": \"\",\n        \"description\": \"\"\n      }\n    },\n    {\n      \"column\": \"launched\",\n      \"properties\": {\n        \"dtype\": \"date\",\n        \"min\": \"2012-03-17 00:00:00\",\n        \"max\": \"2016-02-26 00:00:00\",\n        \"num_unique_values\": 5,\n        \"samples\": [\n          \"2013-01-12 00:00:00\",\n          \"2016-02-26 00:00:00\"\n        ],\n        \"semantic_type\": \"\",\n        \"description\": \"\"\n      }\n    },\n    {\n      \"column\": \"pledged\",\n      \"properties\": {\n        \"dtype\": \"number\",\n        \"std\": 0.0011436522574390798,\n        \"min\": 0.0,\n        \"max\": 0.002575103759092119,\n        \"num_unique_values\": 5,\n        \"samples\": [\n          1.0816664954659021e-05,\n          0.002575103759092119\n        ],\n        \"semantic_type\": \"\",\n        \"description\": \"\"\n      }\n    },\n    {\n      \"column\": \"state\",\n      \"properties\": {\n        \"dtype\": \"number\",\n        \"std\": 1,\n        \"min\": 0,\n        \"max\": 3,\n        \"num_unique_values\": 3,\n        \"samples\": [\n          1,\n          0\n        ],\n        \"semantic_type\": \"\",\n        \"description\": \"\"\n      }\n    },\n    {\n      \"column\": \"backers\",\n      \"properties\": {\n        \"dtype\": \"number\",\n        \"std\": 0.0004481791066446058,\n        \"min\": 0.0,\n        \"max\": 0.001021050040568506,\n        \"num_unique_values\": 5,\n        \"samples\": [\n          1.3674777329042492e-05,\n          0.001021050040568506\n        ],\n        \"semantic_type\": \"\",\n        \"description\": \"\"\n      }\n    },\n    {\n      \"column\": \"country\",\n      \"properties\": {\n        \"dtype\": \"number\",\n        \"std\": 5,\n        \"min\": 9,\n        \"max\": 21,\n        \"num_unique_values\": 2,\n        \"samples\": [\n          21,\n          9\n        ],\n        \"semantic_type\": \"\",\n        \"description\": \"\"\n      }\n    },\n    {\n      \"column\": \"usd pledged\",\n      \"properties\": {\n        \"dtype\": \"number\",\n        \"std\": 23260.72756170795,\n        \"min\": 0.0,\n        \"max\": 52375.0,\n        \"num_unique_values\": 5,\n        \"samples\": [\n          220.0,\n          52375.0\n        ],\n        \"semantic_type\": \"\",\n        \"description\": \"\"\n      }\n    },\n    {\n      \"column\": \"project_duration\",\n      \"properties\": {\n        \"dtype\": \"number\",\n        \"std\": 0.0007568920695017283,\n        \"min\": 0.001732584538176604,\n        \"max\": 0.003465169076353208,\n        \"num_unique_values\": 5,\n        \"samples\": [\n          0.0026287489544748474,\n          0.0020313060102760184\n        ],\n        \"semantic_type\": \"\",\n        \"description\": \"\"\n      }\n    },\n    {\n      \"column\": \"funding_goal_ratio\",\n      \"properties\": {\n        \"dtype\": \"number\",\n        \"std\": 8.34810222123015e-06,\n        \"min\": 0.0,\n        \"max\": 1.8953591655859952e-05,\n        \"num_unique_values\": 5,\n        \"samples\": [\n          8.846014668340895e-08,\n          1.8953591655859952e-05\n        ],\n        \"semantic_type\": \"\",\n        \"description\": \"\"\n      }\n    },\n    {\n      \"column\": \"launch_month\",\n      \"properties\": {\n        \"dtype\": \"int32\",\n        \"num_unique_values\": 5,\n        \"samples\": [\n          1,\n          2\n        ],\n        \"semantic_type\": \"\",\n        \"description\": \"\"\n      }\n    },\n    {\n      \"column\": \"launch_day\",\n      \"properties\": {\n        \"dtype\": \"int32\",\n        \"num_unique_values\": 3,\n        \"samples\": [\n          1,\n          5\n        ],\n        \"semantic_type\": \"\",\n        \"description\": \"\"\n      }\n    }\n  ]\n}"
            }
          },
          "metadata": {}
        }
      ]
    },
    {
      "cell_type": "code",
      "source": [],
      "metadata": {
        "id": "ybIY9yTNU7ab"
      },
      "execution_count": 33,
      "outputs": []
    },
    {
      "cell_type": "markdown",
      "source": [
        "# EDA"
      ],
      "metadata": {
        "id": "NTbjFSIGXDgs"
      }
    },
    {
      "cell_type": "markdown",
      "source": [
        "## Project Success Analysis"
      ],
      "metadata": {
        "id": "Zp-qYgDCXFdY"
      }
    },
    {
      "cell_type": "code",
      "source": [
        "import pandas as pd\n",
        "import matplotlib.pyplot as plt"
      ],
      "metadata": {
        "id": "kEg3G4iNXEli"
      },
      "execution_count": 34,
      "outputs": []
    },
    {
      "cell_type": "code",
      "source": [
        "# Replace 'label_encoders' with your stored LabelEncoder dictionary if available\n",
        "state_mapping = {0: 'failed', 1: 'successful', 2: 'canceled'}  # Example mapping\n",
        "df_cleaned[\"state_decoded\"] = df_cleaned[\"state\"].map(state_mapping)\n",
        "\n",
        "# Count the occurrences of each project state\n",
        "state_counts = df_cleaned[\"state_decoded\"].value_counts()\n",
        "\n",
        "# Pie Chart - Percentage of project outcomes\n",
        "plt.figure(figsize=(7, 5))\n",
        "plt.pie(state_counts, labels=state_counts.index, autopct='%1.1f%%', startangle=140, colors=['lightcoral', 'lightblue', 'lightgreen'])\n",
        "plt.title(\"Project Success Distribution\")\n",
        "plt.show()"
      ],
      "metadata": {
        "colab": {
          "base_uri": "https://localhost:8080/",
          "height": 444
        },
        "id": "QA22Rtwgd6kr",
        "outputId": "67d3043a-ad85-4965-b066-aeec6b6f1983"
      },
      "execution_count": 35,
      "outputs": [
        {
          "output_type": "display_data",
          "data": {
            "text/plain": [
              "<Figure size 700x500 with 1 Axes>"
            ],
            "image/png": "[encoded data removed]"
          },
          "metadata": {}
        }
      ]
    },
    {
      "cell_type": "code",
      "source": [
        "# Bar Chart - Count of each project outcome\n",
        "plt.figure(figsize=(6, 4))\n",
        "plt.bar(state_counts.index, state_counts.values, color=['lightcoral', 'lightblue', 'lightgreen'])\n",
        "plt.xlabel(\"Project State\")\n",
        "plt.ylabel(\"Number of Projects\")\n",
        "plt.title(\"Distribution of Project Outcomes\")\n",
        "plt.show()"
      ],
      "metadata": {
        "colab": {
          "base_uri": "https://localhost:8080/",
          "height": 410
        },
        "id": "3V2mjy9ihq2f",
        "outputId": "a7b8f24d-aabf-49eb-9e8e-2b1ffbc6ba97"
      },
      "execution_count": 36,
      "outputs": [
        {
          "output_type": "display_data",
          "data": {
            "text/plain": [
              "<Figure size 600x400 with 1 Axes>"
            ],
            "image/png": "[encoded data removed]"
          },
          "metadata": {}
        }
      ]
    },
    {
      "cell_type": "code",
      "source": [],
      "metadata": {
        "id": "ip-RUm---9Pt"
      },
      "execution_count": 36,
      "outputs": []
    },
    {
      "cell_type": "markdown",
      "source": [
        "## Category Analysis"
      ],
      "metadata": {
        "id": "Wjy-68kR_Njl"
      }
    },
    {
      "cell_type": "code",
      "source": [
        "# Count the number of successful and unsuccessful projects for each category\n",
        "category_success = df_cleaned.groupby([\"category\", \"state\"]).size().unstack(fill_value=0)\n",
        "\n",
        "# Sort categories by the total number of projects (successful + unsuccessful) and select top 10\n",
        "category_success_sorted = category_success.sum(axis=1).sort_values(ascending=False).head(10)\n",
        "top_categories = category_success_sorted.index\n",
        "category_success = category_success.loc[top_categories]"
      ],
      "metadata": {
        "id": "CLYd_iRgAMAm"
      },
      "execution_count": 37,
      "outputs": []
    },
    {
      "cell_type": "code",
      "source": [
        "# Plot bar chart for successful vs unsuccessful projects in top 10 categories\n",
        "category_success.plot(kind=\"bar\", stacked=True, figsize=(7, 5), color=[\"salmon\", \"lightblue\"])\n",
        "plt.xlabel(\"Category\")\n",
        "plt.ylabel(\"Number of Projects\")\n",
        "plt.title(\"Top 10 Categories: Successful vs Unsuccessful Projects\")\n",
        "plt.xticks(rotation=45, ha=\"right\")\n",
        "plt.legend([\"Unsuccessful\", \"Successful\"], title=\"Project State\")\n",
        "plt.tight_layout()\n",
        "plt.show()"
      ],
      "metadata": {
        "colab": {
          "base_uri": "https://localhost:8080/",
          "height": 507
        },
        "id": "WmZcJh70AXoB",
        "outputId": "3e31fbd9-c172-41f6-e75d-f3934a613be6"
      },
      "execution_count": 38,
      "outputs": [
        {
          "output_type": "display_data",
          "data": {
            "text/plain": [
              "<Figure size 700x500 with 1 Axes>"
            ],
            "image/png": "[encoded data removed]"
          },
          "metadata": {}
        }
      ]
    },
    {
      "cell_type": "code",
      "source": [
        "# Calculate the average amount pledged for each category and select top 10\n",
        "avg_pledged_by_category = df_cleaned.groupby(\"category\")[\"usd pledged\"].mean()\n",
        "avg_pledged_by_category_sorted = avg_pledged_by_category.sort_values(ascending=False).head(10)\n"
      ],
      "metadata": {
        "id": "ZLc3SaaCAbpi"
      },
      "execution_count": 39,
      "outputs": []
    },
    {
      "cell_type": "code",
      "source": [
        "# Plot bar chart for average pledged amount in top 10 categories (Enhanced for Horizontal Labels)\n",
        "plt.figure(figsize=(8, 6))\n",
        "bars = plt.bar(\n",
        "    avg_pledged_by_category_sorted.index,  # Category names\n",
        "    avg_pledged_by_category_sorted.values,  # Average pledged amounts\n",
        "    color=\"darkcyan\",  # Change bar color\n",
        "    edgecolor=\"black\",  # Add edge color for clarity\n",
        "    width=3.0  # Thicker bar width\n",
        ")\n",
        "\n",
        "plt.xlabel(\"Category\", fontsize=10)\n",
        "plt.ylabel(\"Average Amount Pledged (USD)\", fontsize=10)\n",
        "plt.title(\"Top 10 Categories: Average Amount Pledged\", fontsize=12)\n",
        "plt.xticks(rotation=45, ha=\"right\", fontsize=10)\n",
        "\n",
        "# Add vertical data labels at the end of the bars\n",
        "for bar in bars:\n",
        "    height = bar.get_height()\n",
        "    plt.text(\n",
        "        bar.get_x() + bar.get_width() / 2,  # Center the label on the bar\n",
        "        height + 500,  # Position label slightly above the bar\n",
        "        f\"${height:,.0f}\",  # Format value as currency\n",
        "        ha=\"center\",\n",
        "        va=\"bottom\",\n",
        "        fontsize=10,\n",
        "        rotation=90,  # Vertical orientation\n",
        "        color=\"black\"\n",
        "    )\n",
        "\n",
        "plt.tight_layout()\n",
        "plt.show()\n"
      ],
      "metadata": {
        "colab": {
          "base_uri": "https://localhost:8080/",
          "height": 606
        },
        "id": "k-p5vucaAnTk",
        "outputId": "a87b71e5-bae9-484d-fa96-6b0c6e94d619"
      },
      "execution_count": 40,
      "outputs": [
        {
          "output_type": "display_data",
          "data": {
            "text/plain": [
              "<Figure size 800x600 with 1 Axes>"
            ],
            "image/png": "[encoded data removed]"
          },
          "metadata": {}
        }
      ]
    },
    {
      "cell_type": "code",
      "source": [],
      "metadata": {
        "id": "KBsxL0fGDuxr"
      },
      "execution_count": 40,
      "outputs": []
    },
    {
      "cell_type": "markdown",
      "source": [
        "# Predictive Analytics"
      ],
      "metadata": {
        "id": "w7ehCW30ED3I"
      }
    },
    {
      "cell_type": "markdown",
      "source": [
        "1. Data Preparation:\n",
        "\n",
        "Encodes category as numerical values.\n",
        "Converts state into a binary classification target (1 = successful, 0 = failed).\n",
        "\n",
        "2. Feature Selection:\n",
        "\n",
        "Includes goal, duration, and category as features.\n",
        "\n",
        "3. Model Training:\n",
        "\n",
        "Trains Logistic Regression and Random Forest models.\n",
        "\n",
        "4. Evaluation:\n",
        "\n",
        "Prints classification_report (precision, recall, F1-score) and accuracy for both models."
      ],
      "metadata": {
        "id": "LLZ5Uk46ELiN"
      }
    },
    {
      "cell_type": "code",
      "source": [
        "# Import necessary libraries\n",
        "import pandas as pd\n",
        "from sklearn.model_selection import train_test_split\n",
        "from sklearn.ensemble import RandomForestClassifier\n",
        "from sklearn.linear_model import LogisticRegression\n",
        "from sklearn.metrics import classification_report, accuracy_score"
      ],
      "metadata": {
        "id": "oOtYy8RaEFve"
      },
      "execution_count": 46,
      "outputs": []
    },
    {
      "cell_type": "code",
      "source": [
        "print(\"Unique values in 'state' column:\")\n",
        "print(df_cleaned[\"state\"].unique())"
      ],
      "metadata": {
        "colab": {
          "base_uri": "https://localhost:8080/"
        },
        "id": "dINIQcXSF3py",
        "outputId": "917eceb8-7ff0-4d5f-e0c6-f0f4b6c42aad"
      },
      "execution_count": 42,
      "outputs": [
        {
          "output_type": "stream",
          "name": "stdout",
          "text": [
            "Unique values in 'state' column:\n",
            "[1 0 3 2 5 4]\n"
          ]
        }
      ]
    },
    {
      "cell_type": "code",
      "source": [
        "print(\"State Value Counts:\")\n",
        "print(df_cleaned[\"state\"].value_counts())"
      ],
      "metadata": {
        "colab": {
          "base_uri": "https://localhost:8080/"
        },
        "id": "NyKSCJxkGMVk",
        "outputId": "94c73cd1-54f5-468d-9955-db441be80d73"
      },
      "execution_count": 43,
      "outputs": [
        {
          "output_type": "stream",
          "name": "stdout",
          "text": [
            "State Value Counts:\n",
            "state\n",
            "1    168221\n",
            "3    113081\n",
            "0     32354\n",
            "2      4428\n",
            "5      3555\n",
            "4      1479\n",
            "Name: count, dtype: int64\n"
          ]
        }
      ]
    },
    {
      "cell_type": "code",
      "source": [
        "# Define the state mapping\n",
        "state_mapping = {1: \"successful\", 0: \"failed\", 2: \"canceled\", 3: \"live\", 4: \"undefined\", 5: \"undefined\"}\n",
        "\n",
        "# Apply the mapping\n",
        "df_cleaned[\"state\"] = df_cleaned[\"state\"].map(state_mapping)\n",
        "\n",
        "# Print unique values again to verify mapping\n",
        "print(\"Unique values in 'state' after mapping:\")\n",
        "print(df_cleaned[\"state\"].unique())"
      ],
      "metadata": {
        "colab": {
          "base_uri": "https://localhost:8080/"
        },
        "id": "J3IMGQ5kHMB_",
        "outputId": "82957ea4-dd2d-406c-df7e-eb26d35800c2"
      },
      "execution_count": 44,
      "outputs": [
        {
          "output_type": "stream",
          "name": "stdout",
          "text": [
            "Unique values in 'state' after mapping:\n",
            "['successful' 'failed' 'live' 'canceled' 'undefined']\n"
          ]
        }
      ]
    },
    {
      "cell_type": "code",
      "source": [
        "# Filter only successful and failed projects\n",
        "df_filtered = df_cleaned[df_cleaned[\"state\"].isin([\"successful\", \"failed\"])]\n",
        "\n",
        "# Convert 'state' into binary values for ML (1 = successful, 0 = failed)\n",
        "df_filtered[\"state\"] = df_filtered[\"state\"].apply(lambda x: 1 if x == \"successful\" else 0)\n",
        "\n",
        "# Check class distribution after filtering\n",
        "print(\"\\nClass Distribution After Filtering:\")\n",
        "print(df_filtered[\"state\"].value_counts())"
      ],
      "metadata": {
        "colab": {
          "base_uri": "https://localhost:8080/"
        },
        "id": "UUtaN4x8HzL4",
        "outputId": "fab81308-ff9c-478e-93cf-cf3e65c61f32"
      },
      "execution_count": 45,
      "outputs": [
        {
          "output_type": "stream",
          "name": "stdout",
          "text": [
            "\n",
            "Class Distribution After Filtering:\n",
            "state\n",
            "1    168221\n",
            "0     32354\n",
            "Name: count, dtype: int64\n"
          ]
        },
        {
          "output_type": "stream",
          "name": "stderr",
          "text": [
            "<ipython-input-45-c968d3bc7fce>:5: SettingWithCopyWarning: \n",
            "A value is trying to be set on a copy of a slice from a DataFrame.\n",
            "Try using .loc[row_indexer,col_indexer] = value instead\n",
            "\n",
            "See the caveats in the documentation: https://pandas.pydata.org/pandas-docs/stable/user_guide/indexing.html#returning-a-view-versus-a-copy\n",
            "  df_filtered[\"state\"] = df_filtered[\"state\"].apply(lambda x: 1 if x == \"successful\" else 0)\n"
          ]
        }
      ]
    },
    {
      "cell_type": "code",
      "source": [
        "# Features for training\n",
        "X = df_filtered[[\"backers\", \"launch_month\", \"launch_day\", \"project_duration\"]]\n",
        "y = df_filtered[\"state\"]\n",
        "\n",
        "# Stratified train-test split to maintain class balance\n",
        "X_train, X_test, y_train, y_test = train_test_split(X, y, test_size=0.2, random_state=42, stratify=y)\n"
      ],
      "metadata": {
        "id": "IfqQVQycH2Rq"
      },
      "execution_count": 47,
      "outputs": []
    },
    {
      "cell_type": "code",
      "source": [
        "# Train Logistic Regression\n",
        "log_reg = LogisticRegression()\n",
        "log_reg.fit(X_train, y_train)\n",
        "y_pred_log_reg = log_reg.predict(X_test)"
      ],
      "metadata": {
        "id": "OmNeVX4_IAps"
      },
      "execution_count": 48,
      "outputs": []
    },
    {
      "cell_type": "code",
      "source": [
        "# Train Random Forest\n",
        "rf_model = RandomForestClassifier(random_state=42, n_estimators=100)\n",
        "rf_model.fit(X_train, y_train)\n",
        "y_pred_rf = rf_model.predict(X_test)"
      ],
      "metadata": {
        "id": "nMAr--H0IDBS"
      },
      "execution_count": 49,
      "outputs": []
    },
    {
      "cell_type": "code",
      "source": [
        "# Evaluate Models\n",
        "print(\"\\nLogistic Regression Performance:\")\n",
        "print(classification_report(y_test, y_pred_log_reg))\n",
        "print(f\"Accuracy: {accuracy_score(y_test, y_pred_log_reg):.2f}\")\n",
        "\n",
        "print(\"\\nRandom Forest Performance:\")\n",
        "print(classification_report(y_test, y_pred_rf))\n",
        "print(f\"Accuracy: {accuracy_score(y_test, y_pred_rf):.2f}\")"
      ],
      "metadata": {
        "colab": {
          "base_uri": "https://localhost:8080/"
        },
        "id": "N2BJuzO4IFML",
        "outputId": "cb71ffda-32a9-4402-c688-cf506e9b3609"
      },
      "execution_count": 50,
      "outputs": [
        {
          "output_type": "stream",
          "name": "stdout",
          "text": [
            "\n",
            "Logistic Regression Performance:\n",
            "              precision    recall  f1-score   support\n",
            "\n",
            "           0       0.00      0.00      0.00      6471\n",
            "           1       0.84      1.00      0.91     33644\n",
            "\n",
            "    accuracy                           0.84     40115\n",
            "   macro avg       0.42      0.50      0.46     40115\n",
            "weighted avg       0.70      0.84      0.77     40115\n",
            "\n",
            "Accuracy: 0.84\n",
            "\n",
            "Random Forest Performance:\n",
            "              precision    recall  f1-score   support\n",
            "\n",
            "           0       0.18      0.04      0.07      6471\n",
            "           1       0.84      0.96      0.90     33644\n",
            "\n",
            "    accuracy                           0.81     40115\n",
            "   macro avg       0.51      0.50      0.48     40115\n",
            "weighted avg       0.73      0.81      0.76     40115\n",
            "\n",
            "Accuracy: 0.81\n"
          ]
        },
        {
          "output_type": "stream",
          "name": "stderr",
          "text": [
            "/usr/local/lib/python3.11/dist-packages/sklearn/metrics/_classification.py:1565: UndefinedMetricWarning: Precision is ill-defined and being set to 0.0 in labels with no predicted samples. Use `zero_division` parameter to control this behavior.\n",
            "  _warn_prf(average, modifier, f\"{metric.capitalize()} is\", len(result))\n",
            "/usr/local/lib/python3.11/dist-packages/sklearn/metrics/_classification.py:1565: UndefinedMetricWarning: Precision is ill-defined and being set to 0.0 in labels with no predicted samples. Use `zero_division` parameter to control this behavior.\n",
            "  _warn_prf(average, modifier, f\"{metric.capitalize()} is\", len(result))\n",
            "/usr/local/lib/python3.11/dist-packages/sklearn/metrics/_classification.py:1565: UndefinedMetricWarning: Precision is ill-defined and being set to 0.0 in labels with no predicted samples. Use `zero_division` parameter to control this behavior.\n",
            "  _warn_prf(average, modifier, f\"{metric.capitalize()} is\", len(result))\n"
          ]
        }
      ]
    },
    {
      "cell_type": "code",
      "source": [
        "# Import necessary libraries\n",
        "import seaborn as sns\n",
        "import matplotlib.pyplot as plt\n",
        "from sklearn.metrics import confusion_matrix, classification_report, accuracy_score"
      ],
      "metadata": {
        "id": "CBE01FKLIHUq"
      },
      "execution_count": 51,
      "outputs": []
    },
    {
      "cell_type": "code",
      "source": [
        "# Compute confusion matrices\n",
        "conf_matrix_log_reg = confusion_matrix(y_test, y_pred_log_reg)\n",
        "conf_matrix_rf = confusion_matrix(y_test, y_pred_rf)"
      ],
      "metadata": {
        "id": "mRAMn-n2I1GY"
      },
      "execution_count": 52,
      "outputs": []
    },
    {
      "cell_type": "code",
      "source": [
        "# Function to plot confusion matrices\n",
        "def plot_confusion_matrix(cm, model_name, cmap):\n",
        "    plt.figure(figsize=(5, 3))\n",
        "    sns.heatmap(cm, annot=True, fmt='d', cmap=cmap, xticklabels=[\"Failed\", \"Successful\"], yticklabels=[\"Failed\", \"Successful\"])\n",
        "    plt.xlabel(\"Predicted Label\")\n",
        "    plt.ylabel(\"True Label\")\n",
        "    plt.title(f\"Confusion Matrix - {model_name}\")\n",
        "    plt.show()\n",
        "\n",
        "# Plot Confusion Matrix for Logistic Regression\n",
        "plot_confusion_matrix(conf_matrix_log_reg, \"Logistic Regression\", \"Blues\")\n",
        "\n",
        "# Plot Confusion Matrix for Random Forest\n",
        "plot_confusion_matrix(conf_matrix_rf, \"Random Forest\", \"Greens\")"
      ],
      "metadata": {
        "colab": {
          "base_uri": "https://localhost:8080/",
          "height": 649
        },
        "id": "upr0uTVOI2sf",
        "outputId": "c5e4dab0-21b5-40ec-b24b-04827c7e6dec"
      },
      "execution_count": 55,
      "outputs": [
        {
          "output_type": "display_data",
          "data": {
            "text/plain": [
              "<Figure size 500x300 with 2 Axes>"
            ],
            "image/png": "[encoded data removed]"
          },
          "metadata": {}
        },
        {
          "output_type": "display_data",
          "data": {
            "text/plain": [
              "<Figure size 500x300 with 2 Axes>"
            ],
            "image/png": "[encoded data removed]"
          },
          "metadata": {}
        }
      ]
    },
    {
      "cell_type": "code",
      "source": [],
      "metadata": {
        "id": "sDiYen5BJBJj"
      },
      "execution_count": null,
      "outputs": []
    }
  ]
}